{
 "cells": [
  {
   "cell_type": "code",
   "execution_count": 2,
   "metadata": {},
   "outputs": [],
   "source": [
    "%matplotlib inline\n",
    "\n",
    "import os\n",
    "import itertools\n",
    "import numpy as np\n",
    "import pandas as pd\n",
    "import matplotlib.pyplot as plt\n",
    "from scipy import signal\n",
    "from scipy import stats\n",
    "\n",
    "import statsmodels.api as sm\n",
    "from statsmodels.tsa.arima_model import ARIMA\n",
    "from statsmodels.tsa.arima_process import ArmaProcess\n",
    "from statsmodels.tsa.statespace.sarimax import SARIMAX\n",
    "\n",
    "# Always make it pretty.\n",
    "plt.style.use('ggplot')\n",
    "\n",
    "# We get some interger -> float typecast warning from sklean below, this keeps them out of our hair.\n",
    "import warnings\n",
    "warnings.filterwarnings('ignore')"
   ]
  },
  {
   "cell_type": "code",
   "execution_count": 3,
   "metadata": {
    "scrolled": true
   },
   "outputs": [],
   "source": [
    "ATT = pd.read_csv('ATT1.csv')\n",
    "#ngs_df = pd.read_csv('data/training.csv')"
   ]
  },
  {
   "cell_type": "code",
   "execution_count": 4,
   "metadata": {},
   "outputs": [
    {
     "data": {
      "text/html": [
       "<div>\n",
       "<style scoped>\n",
       "    .dataframe tbody tr th:only-of-type {\n",
       "        vertical-align: middle;\n",
       "    }\n",
       "\n",
       "    .dataframe tbody tr th {\n",
       "        vertical-align: top;\n",
       "    }\n",
       "\n",
       "    .dataframe thead th {\n",
       "        text-align: right;\n",
       "    }\n",
       "</style>\n",
       "<table border=\"1\" class=\"dataframe\">\n",
       "  <thead>\n",
       "    <tr style=\"text-align: right;\">\n",
       "      <th></th>\n",
       "      <th>date</th>\n",
       "      <th>open</th>\n",
       "      <th>high</th>\n",
       "      <th>low</th>\n",
       "      <th>close</th>\n",
       "      <th>volume</th>\n",
       "    </tr>\n",
       "  </thead>\n",
       "  <tbody>\n",
       "    <tr>\n",
       "      <th>0</th>\n",
       "      <td>1984-07-19</td>\n",
       "      <td>1.0554</td>\n",
       "      <td>1.0576</td>\n",
       "      <td>1.0489</td>\n",
       "      <td>1.0489</td>\n",
       "      <td>934800</td>\n",
       "    </tr>\n",
       "    <tr>\n",
       "      <th>1</th>\n",
       "      <td>1984-07-20</td>\n",
       "      <td>1.0532</td>\n",
       "      <td>1.0599</td>\n",
       "      <td>1.0466</td>\n",
       "      <td>1.0510</td>\n",
       "      <td>1557600</td>\n",
       "    </tr>\n",
       "    <tr>\n",
       "      <th>2</th>\n",
       "      <td>1984-07-23</td>\n",
       "      <td>1.0466</td>\n",
       "      <td>1.0554</td>\n",
       "      <td>1.0378</td>\n",
       "      <td>1.0510</td>\n",
       "      <td>3313200</td>\n",
       "    </tr>\n",
       "    <tr>\n",
       "      <th>3</th>\n",
       "      <td>1984-07-24</td>\n",
       "      <td>1.0554</td>\n",
       "      <td>1.0666</td>\n",
       "      <td>1.0532</td>\n",
       "      <td>1.0599</td>\n",
       "      <td>1549200</td>\n",
       "    </tr>\n",
       "    <tr>\n",
       "      <th>4</th>\n",
       "      <td>1984-07-25</td>\n",
       "      <td>1.0599</td>\n",
       "      <td>1.0841</td>\n",
       "      <td>1.0576</td>\n",
       "      <td>1.0731</td>\n",
       "      <td>1828800</td>\n",
       "    </tr>\n",
       "    <tr>\n",
       "      <th>...</th>\n",
       "      <td>...</td>\n",
       "      <td>...</td>\n",
       "      <td>...</td>\n",
       "      <td>...</td>\n",
       "      <td>...</td>\n",
       "      <td>...</td>\n",
       "    </tr>\n",
       "    <tr>\n",
       "      <th>9185</th>\n",
       "      <td>2020-12-24</td>\n",
       "      <td>28.7300</td>\n",
       "      <td>28.7600</td>\n",
       "      <td>28.5000</td>\n",
       "      <td>28.6900</td>\n",
       "      <td>19153092</td>\n",
       "    </tr>\n",
       "    <tr>\n",
       "      <th>9186</th>\n",
       "      <td>2020-12-28</td>\n",
       "      <td>28.9300</td>\n",
       "      <td>28.9591</td>\n",
       "      <td>28.5000</td>\n",
       "      <td>28.5500</td>\n",
       "      <td>41575385</td>\n",
       "    </tr>\n",
       "    <tr>\n",
       "      <th>9187</th>\n",
       "      <td>2020-12-29</td>\n",
       "      <td>28.6900</td>\n",
       "      <td>28.8800</td>\n",
       "      <td>28.5100</td>\n",
       "      <td>28.5400</td>\n",
       "      <td>36544749</td>\n",
       "    </tr>\n",
       "    <tr>\n",
       "      <th>9188</th>\n",
       "      <td>2020-12-30</td>\n",
       "      <td>28.5400</td>\n",
       "      <td>28.6800</td>\n",
       "      <td>28.4300</td>\n",
       "      <td>28.4900</td>\n",
       "      <td>34302430</td>\n",
       "    </tr>\n",
       "    <tr>\n",
       "      <th>9189</th>\n",
       "      <td>2020-12-31</td>\n",
       "      <td>28.4500</td>\n",
       "      <td>28.8000</td>\n",
       "      <td>28.3900</td>\n",
       "      <td>28.7600</td>\n",
       "      <td>38588231</td>\n",
       "    </tr>\n",
       "  </tbody>\n",
       "</table>\n",
       "<p>9190 rows × 6 columns</p>\n",
       "</div>"
      ],
      "text/plain": [
       "            date     open     high      low    close    volume\n",
       "0     1984-07-19   1.0554   1.0576   1.0489   1.0489    934800\n",
       "1     1984-07-20   1.0532   1.0599   1.0466   1.0510   1557600\n",
       "2     1984-07-23   1.0466   1.0554   1.0378   1.0510   3313200\n",
       "3     1984-07-24   1.0554   1.0666   1.0532   1.0599   1549200\n",
       "4     1984-07-25   1.0599   1.0841   1.0576   1.0731   1828800\n",
       "...          ...      ...      ...      ...      ...       ...\n",
       "9185  2020-12-24  28.7300  28.7600  28.5000  28.6900  19153092\n",
       "9186  2020-12-28  28.9300  28.9591  28.5000  28.5500  41575385\n",
       "9187  2020-12-29  28.6900  28.8800  28.5100  28.5400  36544749\n",
       "9188  2020-12-30  28.5400  28.6800  28.4300  28.4900  34302430\n",
       "9189  2020-12-31  28.4500  28.8000  28.3900  28.7600  38588231\n",
       "\n",
       "[9190 rows x 6 columns]"
      ]
     },
     "execution_count": 4,
     "metadata": {},
     "output_type": "execute_result"
    }
   ],
   "source": [
    "ATT"
   ]
  },
  {
   "cell_type": "code",
   "execution_count": 7,
   "metadata": {},
   "outputs": [],
   "source": [
    "ATT = ATT.set_index('date')"
   ]
  },
  {
   "cell_type": "code",
   "execution_count": 8,
   "metadata": {},
   "outputs": [],
   "source": [
    "close = ATT['close']"
   ]
  },
  {
   "cell_type": "code",
   "execution_count": 23,
   "metadata": {
    "scrolled": false
   },
   "outputs": [
    {
     "data": {
      "text/plain": [
       "date\n",
       "1984-07-23   -0.0021\n",
       "1984-07-24    0.0089\n",
       "1984-07-25    0.0043\n",
       "1984-07-26   -0.0176\n",
       "1984-07-27   -0.0067\n",
       "               ...  \n",
       "2020-12-24   -0.4100\n",
       "2020-12-28   -0.0800\n",
       "2020-12-29    0.1300\n",
       "2020-12-30   -0.0400\n",
       "2020-12-31    0.3200\n",
       "Name: close, Length: 9188, dtype: float64"
      ]
     },
     "execution_count": 23,
     "metadata": {},
     "output_type": "execute_result"
    }
   ],
   "source": [
    "close"
   ]
  },
  {
   "cell_type": "code",
   "execution_count": 10,
   "metadata": {},
   "outputs": [
    {
     "data": {
      "text/plain": [
       "<AxesSubplot:xlabel='date'>"
      ]
     },
     "execution_count": 10,
     "metadata": {},
     "output_type": "execute_result"
    },
    {
     "data": {
      "image/png": "[encoded data removed]",
      "text/plain": [
       "<Figure size 432x288 with 1 Axes>"
      ]
     },
     "metadata": {},
     "output_type": "display_data"
    }
   ],
   "source": [
    "close.plot(kind='line')"
   ]
  },
  {
   "cell_type": "code",
   "execution_count": 13,
   "metadata": {},
   "outputs": [
    {
     "name": "stdout",
     "output_type": "stream",
     "text": [
      "ADF p-value for differenced close prices: 0.00\n"
     ]
    }
   ],
   "source": [
    "#diff\n",
    "close_diff = close.diff()[1:]\n",
    "test = sm.tsa.stattools.adfuller(close_diff)\n",
    "print(\"ADF p-value for differenced close prices: {0:2.2f}\".format(test[1]))"
   ]
  },
  {
   "cell_type": "code",
   "execution_count": 14,
   "metadata": {},
   "outputs": [
    {
     "data": {
      "image/png": "[encoded data removed]",
      "text/plain": [
       "<Figure size 1008x216 with 1 Axes>"
      ]
     },
     "metadata": {},
     "output_type": "display_data"
    }
   ],
   "source": [
    "#MA\n",
    "fig, ax = plt.subplots(1, figsize=(14, 3))\n",
    "_ = sm.graphics.tsa.plot_acf(close_diff, lags=25, ax=ax)"
   ]
  },
  {
   "cell_type": "code",
   "execution_count": 15,
   "metadata": {},
   "outputs": [
    {
     "data": {
      "image/png": "[encoded data removed]",
      "text/plain": [
       "<Figure size 1008x216 with 1 Axes>"
      ]
     },
     "metadata": {},
     "output_type": "display_data"
    }
   ],
   "source": [
    "#PACF\n",
    "fig, ax = plt.subplots(1, figsize=(14, 3))\n",
    "_ = sm.graphics.tsa.plot_pacf(close_diff, lags=25, ax=ax)"
   ]
  },
  {
   "cell_type": "code",
   "execution_count": 22,
   "metadata": {},
   "outputs": [],
   "source": [
    "#ARIMA\n",
    "close_model = ARIMA(close, order=(3, 1, 0)).fit()"
   ]
  },
  {
   "cell_type": "code",
   "execution_count": 19,
   "metadata": {},
   "outputs": [
    {
     "data": {
      "text/plain": [
       "const            0.000011\n",
       "ar.L1.D.close   -1.226462\n",
       "ar.L2.D.close   -0.900434\n",
       "ar.L3.D.close   -0.382962\n",
       "dtype: float64"
      ]
     },
     "execution_count": 19,
     "metadata": {},
     "output_type": "execute_result"
    }
   ],
   "source": [
    "close_model.params"
   ]
  },
  {
   "cell_type": "code",
   "execution_count": null,
   "metadata": {},
   "outputs": [],
   "source": [
    "#forcast\n",
    "#close.reindex(pd.date_range(start='01-1996', end='12-2012', freq='M'))\n",
    "\n",
    "fig, ax = plt.subplots(1, figsize=(14, 4))\n",
    "ax.plot(close.index, close)\n",
    "fig = close_model.plot_predict('2020-12-31', '2021', \n",
    "                                  dynamic=True, ax=ax, plot_insample=False)\n",
    "\n",
    "_ = ax.legend().get_texts()[1].set_text(\"95% Prediction Interval\")\n",
    "_ = ax.legend(loc=\"lower left\")\n",
    "\n",
    "_ = ax.set_title(\"Electric Series Forcasts from ARIMA Model\")"
   ]
  },
  {
   "cell_type": "code",
   "execution_count": 28,
   "metadata": {},
   "outputs": [
    {
     "name": "stdout",
     "output_type": "stream",
     "text": [
      "(0, 0, 0) 7621.1354019184355\n",
      "(0, 0, 1) 771.0038464924255\n",
      "(0, 0, 2) 744.9844350688254\n",
      "(0, 0, 3) 761.8729465527249\n",
      "(0, 1, 0) 17874.735474559682\n",
      "(0, 1, 1) 7632.431809956241\n",
      "(0, 1, 2) 876.9206376319999\n",
      "(0, 1, 3) 990.2842860741293\n",
      "(1, 0, 0) 4640.857790819748\n",
      "(1, 0, 1) 745.1331500004817\n",
      "(1, 0, 3) 748.4784891346317\n",
      "(1, 1, 0) 12020.539080516255\n",
      "(1, 1, 3) 859.755400851649\n",
      "(2, 0, 0) 3625.331687297061\n",
      "(2, 0, 1) 747.0916272785071\n",
      "(2, 0, 2) 741.1018468400725\n",
      "(2, 1, 0) 9320.664518273225\n",
      "(3, 0, 0) 3104.9366181476\n",
      "(3, 0, 1) 738.2680727771949\n",
      "(3, 1, 0) 7865.187212385816\n",
      "(4, 0, 0) 2677.4655329631605\n",
      "(4, 0, 1) 718.9098056895746\n",
      "(4, 0, 2) 719.8492597921031\n",
      "(4, 1, 0) 6732.007488334839\n",
      "(5, 0, 0) 2443.828232265583\n",
      "(5, 0, 1) 718.57262756192\n",
      "(5, 0, 2) 710.5095449515611\n",
      "(5, 1, 0) 6202.151981985546\n",
      "{(0, 0, 0): 7621.1354019184355, (0, 0, 1): 771.0038464924255, (0, 0, 2): 744.9844350688254, (0, 0, 3): 761.8729465527249, (0, 1, 0): 17874.735474559682, (0, 1, 1): 7632.431809956241, (0, 1, 2): 876.9206376319999, (0, 1, 3): 990.2842860741293, (1, 0, 0): 4640.857790819748, (1, 0, 1): 745.1331500004817, (1, 0, 3): 748.4784891346317, (1, 1, 0): 12020.539080516255, (1, 1, 3): 859.755400851649, (2, 0, 0): 3625.331687297061, (2, 0, 1): 747.0916272785071, (2, 0, 2): 741.1018468400725, (2, 1, 0): 9320.664518273225, (3, 0, 0): 3104.9366181476, (3, 0, 1): 738.2680727771949, (3, 1, 0): 7865.187212385816, (4, 0, 0): 2677.4655329631605, (4, 0, 1): 718.9098056895746, (4, 0, 2): 719.8492597921031, (4, 1, 0): 6732.007488334839, (5, 0, 0): 2443.828232265583, (5, 0, 1): 718.57262756192, (5, 0, 2): 710.5095449515611, (5, 1, 0): 6202.151981985546}\n"
     ]
    }
   ],
   "source": [
    "p=0\n",
    "q=0\n",
    "d=0\n",
    "pdq=[]\n",
    "aic=[]\n",
    "for p in range(6):\n",
    "    for d in range(2):\n",
    "        for q in range(4):\n",
    "            try:\n",
    "                arima_mod=sm.tsa.ARIMA(close,(p,d,q)).fit(transparams=True)\n",
    "\n",
    "                x=arima_mod.aic\n",
    "\n",
    "                x1= p,d,q\n",
    "                print (x1,x)\n",
    "\n",
    "                aic.append(x)\n",
    "                pdq.append(x1)\n",
    "            except:\n",
    "                pass\n",
    "\n",
    "\n",
    "keys = pdq\n",
    "values = aic\n",
    "d = dict(zip(keys, values))\n",
    "print (d)\n",
    "\n",
    "minaic=min(d, key=d.get)\n"
   ]
  },
  {
   "cell_type": "code",
   "execution_count": null,
   "metadata": {},
   "outputs": [],
   "source": []
  },
  {
   "cell_type": "code",
   "execution_count": null,
   "metadata": {},
   "outputs": [],
   "source": []
  },
  {
   "cell_type": "code",
   "execution_count": null,
   "metadata": {},
   "outputs": [],
   "source": []
  },
  {
   "cell_type": "code",
   "execution_count": null,
   "metadata": {},
   "outputs": [],
   "source": []
  },
  {
   "cell_type": "code",
   "execution_count": null,
   "metadata": {},
   "outputs": [],
   "source": []
  },
  {
   "cell_type": "code",
   "execution_count": null,
   "metadata": {},
   "outputs": [],
   "source": []
  },
  {
   "cell_type": "code",
   "execution_count": null,
   "metadata": {},
   "outputs": [],
   "source": []
  }
 ],
 "metadata": {
  "kernelspec": {
   "display_name": "Python 3",
   "language": "python",
   "name": "python3"
  },
  "language_info": {
   "codemirror_mode": {
    "name": "ipython",
    "version": 3
   },
   "file_extension": ".py",
   "mimetype": "text/x-python",
   "name": "python",
   "nbconvert_exporter": "python",
   "pygments_lexer": "ipython3",
   "version": "3.7.9"
  }
 },
 "nbformat": 4,
 "nbformat_minor": 4
}

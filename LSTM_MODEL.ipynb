{
 "cells": [
  {
   "cell_type": "code",
   "execution_count": 116,
   "metadata": {
    "scrolled": true
   },
   "outputs": [],
   "source": [
    "import pandas as pd\n",
    "import math\n",
    "import numpy as np\n",
    "import matplotlib.pyplot as plt\n",
    "import tensorflow as tf\n",
    "keras = tf.keras\n",
    "import sklearn\n",
    "from keras.models import Sequential\n",
    "from keras.layers import Dense\n",
    "from keras.layers import LSTM\n",
    "from scipy import stats\n",
    "from sklearn.model_selection import train_test_split\n",
    "\n",
    "from sklearn.preprocessing import MinMaxScaler\n",
    "from sklearn.metrics import mean_squared_error\n",
    "\n",
    "\n",
    "\n",
    "%matplotlib inline"
   ]
  },
  {
   "cell_type": "code",
   "execution_count": 117,
   "metadata": {},
   "outputs": [],
   "source": [
    "ATT = pd.read_csv('ATT1.csv')"
   ]
  },
  {
   "cell_type": "code",
   "execution_count": 118,
   "metadata": {
    "scrolled": true
   },
   "outputs": [
    {
     "data": {
      "text/html": [
       "<div>\n",
       "<style scoped>\n",
       "    .dataframe tbody tr th:only-of-type {\n",
       "        vertical-align: middle;\n",
       "    }\n",
       "\n",
       "    .dataframe tbody tr th {\n",
       "        vertical-align: top;\n",
       "    }\n",
       "\n",
       "    .dataframe thead th {\n",
       "        text-align: right;\n",
       "    }\n",
       "</style>\n",
       "<table border=\"1\" class=\"dataframe\">\n",
       "  <thead>\n",
       "    <tr style=\"text-align: right;\">\n",
       "      <th></th>\n",
       "      <th>date</th>\n",
       "      <th>open</th>\n",
       "      <th>high</th>\n",
       "      <th>low</th>\n",
       "      <th>close</th>\n",
       "      <th>volume</th>\n",
       "    </tr>\n",
       "  </thead>\n",
       "  <tbody>\n",
       "    <tr>\n",
       "      <th>0</th>\n",
       "      <td>1984-07-19</td>\n",
       "      <td>1.0554</td>\n",
       "      <td>1.0576</td>\n",
       "      <td>1.0489</td>\n",
       "      <td>1.0489</td>\n",
       "      <td>934800</td>\n",
       "    </tr>\n",
       "    <tr>\n",
       "      <th>1</th>\n",
       "      <td>1984-07-20</td>\n",
       "      <td>1.0532</td>\n",
       "      <td>1.0599</td>\n",
       "      <td>1.0466</td>\n",
       "      <td>1.0510</td>\n",
       "      <td>1557600</td>\n",
       "    </tr>\n",
       "    <tr>\n",
       "      <th>2</th>\n",
       "      <td>1984-07-23</td>\n",
       "      <td>1.0466</td>\n",
       "      <td>1.0554</td>\n",
       "      <td>1.0378</td>\n",
       "      <td>1.0510</td>\n",
       "      <td>3313200</td>\n",
       "    </tr>\n",
       "    <tr>\n",
       "      <th>3</th>\n",
       "      <td>1984-07-24</td>\n",
       "      <td>1.0554</td>\n",
       "      <td>1.0666</td>\n",
       "      <td>1.0532</td>\n",
       "      <td>1.0599</td>\n",
       "      <td>1549200</td>\n",
       "    </tr>\n",
       "    <tr>\n",
       "      <th>4</th>\n",
       "      <td>1984-07-25</td>\n",
       "      <td>1.0599</td>\n",
       "      <td>1.0841</td>\n",
       "      <td>1.0576</td>\n",
       "      <td>1.0731</td>\n",
       "      <td>1828800</td>\n",
       "    </tr>\n",
       "    <tr>\n",
       "      <th>...</th>\n",
       "      <td>...</td>\n",
       "      <td>...</td>\n",
       "      <td>...</td>\n",
       "      <td>...</td>\n",
       "      <td>...</td>\n",
       "      <td>...</td>\n",
       "    </tr>\n",
       "    <tr>\n",
       "      <th>9185</th>\n",
       "      <td>2020-12-24</td>\n",
       "      <td>28.7300</td>\n",
       "      <td>28.7600</td>\n",
       "      <td>28.5000</td>\n",
       "      <td>28.6900</td>\n",
       "      <td>19153092</td>\n",
       "    </tr>\n",
       "    <tr>\n",
       "      <th>9186</th>\n",
       "      <td>2020-12-28</td>\n",
       "      <td>28.9300</td>\n",
       "      <td>28.9591</td>\n",
       "      <td>28.5000</td>\n",
       "      <td>28.5500</td>\n",
       "      <td>41575385</td>\n",
       "    </tr>\n",
       "    <tr>\n",
       "      <th>9187</th>\n",
       "      <td>2020-12-29</td>\n",
       "      <td>28.6900</td>\n",
       "      <td>28.8800</td>\n",
       "      <td>28.5100</td>\n",
       "      <td>28.5400</td>\n",
       "      <td>36544749</td>\n",
       "    </tr>\n",
       "    <tr>\n",
       "      <th>9188</th>\n",
       "      <td>2020-12-30</td>\n",
       "      <td>28.5400</td>\n",
       "      <td>28.6800</td>\n",
       "      <td>28.4300</td>\n",
       "      <td>28.4900</td>\n",
       "      <td>34302430</td>\n",
       "    </tr>\n",
       "    <tr>\n",
       "      <th>9189</th>\n",
       "      <td>2020-12-31</td>\n",
       "      <td>28.4500</td>\n",
       "      <td>28.8000</td>\n",
       "      <td>28.3900</td>\n",
       "      <td>28.7600</td>\n",
       "      <td>38588231</td>\n",
       "    </tr>\n",
       "  </tbody>\n",
       "</table>\n",
       "<p>9190 rows × 6 columns</p>\n",
       "</div>"
      ],
      "text/plain": [
       "            date     open     high      low    close    volume\n",
       "0     1984-07-19   1.0554   1.0576   1.0489   1.0489    934800\n",
       "1     1984-07-20   1.0532   1.0599   1.0466   1.0510   1557600\n",
       "2     1984-07-23   1.0466   1.0554   1.0378   1.0510   3313200\n",
       "3     1984-07-24   1.0554   1.0666   1.0532   1.0599   1549200\n",
       "4     1984-07-25   1.0599   1.0841   1.0576   1.0731   1828800\n",
       "...          ...      ...      ...      ...      ...       ...\n",
       "9185  2020-12-24  28.7300  28.7600  28.5000  28.6900  19153092\n",
       "9186  2020-12-28  28.9300  28.9591  28.5000  28.5500  41575385\n",
       "9187  2020-12-29  28.6900  28.8800  28.5100  28.5400  36544749\n",
       "9188  2020-12-30  28.5400  28.6800  28.4300  28.4900  34302430\n",
       "9189  2020-12-31  28.4500  28.8000  28.3900  28.7600  38588231\n",
       "\n",
       "[9190 rows x 6 columns]"
      ]
     },
     "execution_count": 118,
     "metadata": {},
     "output_type": "execute_result"
    }
   ],
   "source": [
    "ATT"
   ]
  },
  {
   "cell_type": "code",
   "execution_count": 119,
   "metadata": {},
   "outputs": [
    {
     "data": {
      "text/plain": [
       "Timestamp('1984-07-20 00:00:00')"
      ]
     },
     "execution_count": 119,
     "metadata": {},
     "output_type": "execute_result"
    }
   ],
   "source": [
    "pd.Timestamp('1984-07-20')"
   ]
  },
  {
   "cell_type": "code",
   "execution_count": 120,
   "metadata": {},
   "outputs": [],
   "source": [
    "Timestamp = []\n",
    "for i in ATT['date']:\n",
    "    Timestamp.append(pd.Timestamp(i))\n"
   ]
  },
  {
   "cell_type": "code",
   "execution_count": 121,
   "metadata": {},
   "outputs": [],
   "source": [
    "ATT['Timestamp'] = Timestamp"
   ]
  },
  {
   "cell_type": "code",
   "execution_count": 122,
   "metadata": {
    "scrolled": true
   },
   "outputs": [],
   "source": [
    "ATT = ATT.set_index('Timestamp')"
   ]
  },
  {
   "cell_type": "code",
   "execution_count": 123,
   "metadata": {
    "scrolled": true
   },
   "outputs": [
    {
     "data": {
      "text/plain": [
       "DatetimeIndex(['1984-07-19', '1984-07-20', '1984-07-23', '1984-07-24',\n",
       "               '1984-07-25', '1984-07-26', '1984-07-27', '1984-07-30',\n",
       "               '1984-07-31', '1984-08-01',\n",
       "               ...\n",
       "               '2020-12-17', '2020-12-18', '2020-12-21', '2020-12-22',\n",
       "               '2020-12-23', '2020-12-24', '2020-12-28', '2020-12-29',\n",
       "               '2020-12-30', '2020-12-31'],\n",
       "              dtype='datetime64[ns]', name='Timestamp', length=9190, freq=None)"
      ]
     },
     "execution_count": 123,
     "metadata": {},
     "output_type": "execute_result"
    }
   ],
   "source": [
    "ATT.index"
   ]
  },
  {
   "cell_type": "code",
   "execution_count": 124,
   "metadata": {},
   "outputs": [],
   "source": [
    "ATT['day_of_week'] = ATT.index.dayofweek\n",
    "ATT['day_of_month'] = ATT.index.day\n",
    "ATT['month'] = ATT.index.month"
   ]
  },
  {
   "cell_type": "code",
   "execution_count": 125,
   "metadata": {
    "scrolled": true
   },
   "outputs": [
    {
     "data": {
      "text/html": [
       "<div>\n",
       "<style scoped>\n",
       "    .dataframe tbody tr th:only-of-type {\n",
       "        vertical-align: middle;\n",
       "    }\n",
       "\n",
       "    .dataframe tbody tr th {\n",
       "        vertical-align: top;\n",
       "    }\n",
       "\n",
       "    .dataframe thead th {\n",
       "        text-align: right;\n",
       "    }\n",
       "</style>\n",
       "<table border=\"1\" class=\"dataframe\">\n",
       "  <thead>\n",
       "    <tr style=\"text-align: right;\">\n",
       "      <th></th>\n",
       "      <th>date</th>\n",
       "      <th>open</th>\n",
       "      <th>high</th>\n",
       "      <th>low</th>\n",
       "      <th>close</th>\n",
       "      <th>volume</th>\n",
       "      <th>day_of_week</th>\n",
       "      <th>day_of_month</th>\n",
       "      <th>month</th>\n",
       "    </tr>\n",
       "    <tr>\n",
       "      <th>Timestamp</th>\n",
       "      <th></th>\n",
       "      <th></th>\n",
       "      <th></th>\n",
       "      <th></th>\n",
       "      <th></th>\n",
       "      <th></th>\n",
       "      <th></th>\n",
       "      <th></th>\n",
       "      <th></th>\n",
       "    </tr>\n",
       "  </thead>\n",
       "  <tbody>\n",
       "    <tr>\n",
       "      <th>1984-07-19</th>\n",
       "      <td>1984-07-19</td>\n",
       "      <td>1.0554</td>\n",
       "      <td>1.0576</td>\n",
       "      <td>1.0489</td>\n",
       "      <td>1.0489</td>\n",
       "      <td>934800</td>\n",
       "      <td>3</td>\n",
       "      <td>19</td>\n",
       "      <td>7</td>\n",
       "    </tr>\n",
       "    <tr>\n",
       "      <th>1984-07-20</th>\n",
       "      <td>1984-07-20</td>\n",
       "      <td>1.0532</td>\n",
       "      <td>1.0599</td>\n",
       "      <td>1.0466</td>\n",
       "      <td>1.0510</td>\n",
       "      <td>1557600</td>\n",
       "      <td>4</td>\n",
       "      <td>20</td>\n",
       "      <td>7</td>\n",
       "    </tr>\n",
       "    <tr>\n",
       "      <th>1984-07-23</th>\n",
       "      <td>1984-07-23</td>\n",
       "      <td>1.0466</td>\n",
       "      <td>1.0554</td>\n",
       "      <td>1.0378</td>\n",
       "      <td>1.0510</td>\n",
       "      <td>3313200</td>\n",
       "      <td>0</td>\n",
       "      <td>23</td>\n",
       "      <td>7</td>\n",
       "    </tr>\n",
       "    <tr>\n",
       "      <th>1984-07-24</th>\n",
       "      <td>1984-07-24</td>\n",
       "      <td>1.0554</td>\n",
       "      <td>1.0666</td>\n",
       "      <td>1.0532</td>\n",
       "      <td>1.0599</td>\n",
       "      <td>1549200</td>\n",
       "      <td>1</td>\n",
       "      <td>24</td>\n",
       "      <td>7</td>\n",
       "    </tr>\n",
       "    <tr>\n",
       "      <th>1984-07-25</th>\n",
       "      <td>1984-07-25</td>\n",
       "      <td>1.0599</td>\n",
       "      <td>1.0841</td>\n",
       "      <td>1.0576</td>\n",
       "      <td>1.0731</td>\n",
       "      <td>1828800</td>\n",
       "      <td>2</td>\n",
       "      <td>25</td>\n",
       "      <td>7</td>\n",
       "    </tr>\n",
       "    <tr>\n",
       "      <th>...</th>\n",
       "      <td>...</td>\n",
       "      <td>...</td>\n",
       "      <td>...</td>\n",
       "      <td>...</td>\n",
       "      <td>...</td>\n",
       "      <td>...</td>\n",
       "      <td>...</td>\n",
       "      <td>...</td>\n",
       "      <td>...</td>\n",
       "    </tr>\n",
       "    <tr>\n",
       "      <th>2020-12-24</th>\n",
       "      <td>2020-12-24</td>\n",
       "      <td>28.7300</td>\n",
       "      <td>28.7600</td>\n",
       "      <td>28.5000</td>\n",
       "      <td>28.6900</td>\n",
       "      <td>19153092</td>\n",
       "      <td>3</td>\n",
       "      <td>24</td>\n",
       "      <td>12</td>\n",
       "    </tr>\n",
       "    <tr>\n",
       "      <th>2020-12-28</th>\n",
       "      <td>2020-12-28</td>\n",
       "      <td>28.9300</td>\n",
       "      <td>28.9591</td>\n",
       "      <td>28.5000</td>\n",
       "      <td>28.5500</td>\n",
       "      <td>41575385</td>\n",
       "      <td>0</td>\n",
       "      <td>28</td>\n",
       "      <td>12</td>\n",
       "    </tr>\n",
       "    <tr>\n",
       "      <th>2020-12-29</th>\n",
       "      <td>2020-12-29</td>\n",
       "      <td>28.6900</td>\n",
       "      <td>28.8800</td>\n",
       "      <td>28.5100</td>\n",
       "      <td>28.5400</td>\n",
       "      <td>36544749</td>\n",
       "      <td>1</td>\n",
       "      <td>29</td>\n",
       "      <td>12</td>\n",
       "    </tr>\n",
       "    <tr>\n",
       "      <th>2020-12-30</th>\n",
       "      <td>2020-12-30</td>\n",
       "      <td>28.5400</td>\n",
       "      <td>28.6800</td>\n",
       "      <td>28.4300</td>\n",
       "      <td>28.4900</td>\n",
       "      <td>34302430</td>\n",
       "      <td>2</td>\n",
       "      <td>30</td>\n",
       "      <td>12</td>\n",
       "    </tr>\n",
       "    <tr>\n",
       "      <th>2020-12-31</th>\n",
       "      <td>2020-12-31</td>\n",
       "      <td>28.4500</td>\n",
       "      <td>28.8000</td>\n",
       "      <td>28.3900</td>\n",
       "      <td>28.7600</td>\n",
       "      <td>38588231</td>\n",
       "      <td>3</td>\n",
       "      <td>31</td>\n",
       "      <td>12</td>\n",
       "    </tr>\n",
       "  </tbody>\n",
       "</table>\n",
       "<p>9190 rows × 9 columns</p>\n",
       "</div>"
      ],
      "text/plain": [
       "                  date     open     high      low    close    volume  \\\n",
       "Timestamp                                                              \n",
       "1984-07-19  1984-07-19   1.0554   1.0576   1.0489   1.0489    934800   \n",
       "1984-07-20  1984-07-20   1.0532   1.0599   1.0466   1.0510   1557600   \n",
       "1984-07-23  1984-07-23   1.0466   1.0554   1.0378   1.0510   3313200   \n",
       "1984-07-24  1984-07-24   1.0554   1.0666   1.0532   1.0599   1549200   \n",
       "1984-07-25  1984-07-25   1.0599   1.0841   1.0576   1.0731   1828800   \n",
       "...                ...      ...      ...      ...      ...       ...   \n",
       "2020-12-24  2020-12-24  28.7300  28.7600  28.5000  28.6900  19153092   \n",
       "2020-12-28  2020-12-28  28.9300  28.9591  28.5000  28.5500  41575385   \n",
       "2020-12-29  2020-12-29  28.6900  28.8800  28.5100  28.5400  36544749   \n",
       "2020-12-30  2020-12-30  28.5400  28.6800  28.4300  28.4900  34302430   \n",
       "2020-12-31  2020-12-31  28.4500  28.8000  28.3900  28.7600  38588231   \n",
       "\n",
       "            day_of_week  day_of_month  month  \n",
       "Timestamp                                     \n",
       "1984-07-19            3            19      7  \n",
       "1984-07-20            4            20      7  \n",
       "1984-07-23            0            23      7  \n",
       "1984-07-24            1            24      7  \n",
       "1984-07-25            2            25      7  \n",
       "...                 ...           ...    ...  \n",
       "2020-12-24            3            24     12  \n",
       "2020-12-28            0            28     12  \n",
       "2020-12-29            1            29     12  \n",
       "2020-12-30            2            30     12  \n",
       "2020-12-31            3            31     12  \n",
       "\n",
       "[9190 rows x 9 columns]"
      ]
     },
     "execution_count": 125,
     "metadata": {},
     "output_type": "execute_result"
    }
   ],
   "source": [
    "ATT"
   ]
  },
  {
   "cell_type": "code",
   "execution_count": 126,
   "metadata": {},
   "outputs": [],
   "source": [
    "close = ATT['close']"
   ]
  },
  {
   "cell_type": "code",
   "execution_count": 127,
   "metadata": {
    "scrolled": true
   },
   "outputs": [
    {
     "data": {
      "text/plain": [
       "<AxesSubplot:xlabel='Timestamp'>"
      ]
     },
     "execution_count": 127,
     "metadata": {},
     "output_type": "execute_result"
    },
    {
     "data": {
      "image/png": "[encoded data removed]",
      "text/plain": [
       "<Figure size 432x288 with 1 Axes>"
      ]
     },
     "metadata": {
      "needs_background": "light"
     },
     "output_type": "display_data"
    }
   ],
   "source": [
    "close.plot(kind='line')"
   ]
  },
  {
   "cell_type": "code",
   "execution_count": 128,
   "metadata": {},
   "outputs": [
    {
     "data": {
      "text/plain": [
       "9190"
      ]
     },
     "execution_count": 128,
     "metadata": {},
     "output_type": "execute_result"
    }
   ],
   "source": [
    "len(ATT)"
   ]
  },
  {
   "cell_type": "code",
   "execution_count": 129,
   "metadata": {},
   "outputs": [
    {
     "name": "stdout",
     "output_type": "stream",
     "text": [
      "(8271, 9) (919, 9)\n"
     ]
    }
   ],
   "source": [
    "# split into train and test:\n",
    "\n",
    "train_size = int(len(ATT) * 0.9)\n",
    "test_size = len(ATT) - train_size\n",
    "train, test = ATT[0:train_size], ATT[train_size:len(ATT)]\n",
    "\n",
    "print(train.shape,test.shape)"
   ]
  },
  {
   "cell_type": "code",
   "execution_count": 130,
   "metadata": {},
   "outputs": [
    {
     "name": "stderr",
     "output_type": "stream",
     "text": [
      "/Users/vickiwei/opt/anaconda3/lib/python3.7/site-packages/pandas/core/indexing.py:1736: SettingWithCopyWarning: \n",
      "A value is trying to be set on a copy of a slice from a DataFrame.\n",
      "Try using .loc[row_indexer,col_indexer] = value instead\n",
      "\n",
      "See the caveats in the documentation: https://pandas.pydata.org/pandas-docs/stable/user_guide/indexing.html#returning-a-view-versus-a-copy\n",
      "  isetter(loc, value[:, i].tolist())\n",
      "/Users/vickiwei/opt/anaconda3/lib/python3.7/site-packages/ipykernel_launcher.py:13: SettingWithCopyWarning: \n",
      "A value is trying to be set on a copy of a slice from a DataFrame.\n",
      "Try using .loc[row_indexer,col_indexer] = value instead\n",
      "\n",
      "See the caveats in the documentation: https://pandas.pydata.org/pandas-docs/stable/user_guide/indexing.html#returning-a-view-versus-a-copy\n",
      "  del sys.path[0]\n",
      "/Users/vickiwei/opt/anaconda3/lib/python3.7/site-packages/pandas/core/indexing.py:1736: SettingWithCopyWarning: \n",
      "A value is trying to be set on a copy of a slice from a DataFrame.\n",
      "Try using .loc[row_indexer,col_indexer] = value instead\n",
      "\n",
      "See the caveats in the documentation: https://pandas.pydata.org/pandas-docs/stable/user_guide/indexing.html#returning-a-view-versus-a-copy\n",
      "  isetter(loc, value[:, i].tolist())\n",
      "/Users/vickiwei/opt/anaconda3/lib/python3.7/site-packages/ipykernel_launcher.py:16: SettingWithCopyWarning: \n",
      "A value is trying to be set on a copy of a slice from a DataFrame.\n",
      "Try using .loc[row_indexer,col_indexer] = value instead\n",
      "\n",
      "See the caveats in the documentation: https://pandas.pydata.org/pandas-docs/stable/user_guide/indexing.html#returning-a-view-versus-a-copy\n",
      "  app.launch_new_instance()\n"
     ]
    }
   ],
   "source": [
    "#transform:\n",
    "from sklearn.preprocessing import RobustScaler\n",
    "\n",
    "f_columns = ['open', 'high', 'low','volume']\n",
    "\n",
    "f_transformer = RobustScaler()\n",
    "close_transformer = RobustScaler()\n",
    "\n",
    "f_transformer = f_transformer.fit(train[f_columns].to_numpy())\n",
    "close_transformer = close_transformer.fit(train[['close']])\n",
    "\n",
    "train.loc[:, f_columns] = f_transformer.transform(train[f_columns].to_numpy())\n",
    "train['close'] = close_transformer.transform(train[['close']])\n",
    "\n",
    "test.loc[:, f_columns] = f_transformer.transform(test[f_columns].to_numpy())\n",
    "test['close'] = close_transformer.transform(test[['close']])"
   ]
  },
  {
   "cell_type": "code",
   "execution_count": 131,
   "metadata": {},
   "outputs": [],
   "source": [
    "def create_dataset(X, y, time_steps=1):\n",
    "    dataX, dataY = [], []\n",
    "    for i in range(len(X) - time_steps):\n",
    "        a  = X.iloc[i:(i+time_steps)].to_numpy()\n",
    "        dataX.append(a)\n",
    "        dataY.append(y.iloc[i + time_steps])\n",
    "    return np.array(dataX), np.array(dataY)"
   ]
  },
  {
   "cell_type": "code",
   "execution_count": 132,
   "metadata": {},
   "outputs": [],
   "source": [
    "TIME_STEPS = 5"
   ]
  },
  {
   "cell_type": "code",
   "execution_count": 133,
   "metadata": {},
   "outputs": [],
   "source": [
    "x_train, y_train = create_dataset(train, train.close, time_steps=TIME_STEPS)\n",
    "x_test, y_test = create_dataset(test, test.close, time_steps=TIME_STEPS)\n"
   ]
  },
  {
   "cell_type": "code",
   "execution_count": 134,
   "metadata": {},
   "outputs": [
    {
     "name": "stdout",
     "output_type": "stream",
     "text": [
      "(8266, 5, 9) (8266,)\n"
     ]
    }
   ],
   "source": [
    "# samples, time_steps, n_features\n",
    "print(x_train.shape,y_train.shape)"
   ]
  },
  {
   "cell_type": "code",
   "execution_count": 135,
   "metadata": {},
   "outputs": [],
   "source": [
    "#Modeling:"
   ]
  },
  {
   "cell_type": "code",
   "execution_count": 136,
   "metadata": {},
   "outputs": [],
   "source": [
    "model = keras.Sequential()\n",
    "model.add(\n",
    "    keras.layers.Bidirectional(\n",
    "      keras.layers.LSTM(\n",
    "          units = 128,\n",
    "          input_shape=(x_train.shape[1],x_train.shape[2])\n",
    "          )\n",
    "    )\n",
    ")\n",
    "model.add(keras.layers.Dropout(rate=0.2))\n",
    "model.add(keras.layers.Dense(units=1))"
   ]
  },
  {
   "cell_type": "code",
   "execution_count": 137,
   "metadata": {},
   "outputs": [],
   "source": [
    "model.compile(loss='mean_squared_error', optimizer='adam')"
   ]
  },
  {
   "cell_type": "code",
   "execution_count": null,
   "metadata": {},
   "outputs": [],
   "source": [
    "history = model.fit(\n",
    "    x_train, y_train,\n",
    "    epochs=3,\n",
    "    batch_size=64,\n",
    "    validation_split=0.1,\n",
    "    #shuffle=False\n",
    ")"
   ]
  },
  {
   "cell_type": "code",
   "execution_count": null,
   "metadata": {},
   "outputs": [],
   "source": [
    "plt.plot(history.history['loss'],label='train')\n",
    "plt.plot(history.history['val_loss'],label='validation')\n",
    "plt.legend()"
   ]
  },
  {
   "cell_type": "code",
   "execution_count": null,
   "metadata": {},
   "outputs": [],
   "source": [
    "y_pred = model.predict(x_test)"
   ]
  },
  {
   "cell_type": "code",
   "execution_count": null,
   "metadata": {},
   "outputs": [],
   "source": [
    "y_train_inv = close_transformer.inverse_transform(y_train.reshape(1, -1))\n",
    "y_test_inv = close_transformer.inverse_transform(y_test.reshape(1, -1))\n",
    "y_pred_inv = close_transformer.inverse_transform(y_pred)\n"
   ]
  },
  {
   "cell_type": "code",
   "execution_count": null,
   "metadata": {},
   "outputs": [],
   "source": [
    "plt.plot(y_test_inv.flatten(),marker='.', label='true')\n",
    "plt.plot(y_pred_inv.flatten(),'r', marker='.', label='predicted')\n",
    "plt.legend()"
   ]
  },
  {
   "cell_type": "code",
   "execution_count": null,
   "metadata": {},
   "outputs": [],
   "source": []
  }
 ],
 "metadata": {
  "kernelspec": {
   "display_name": "Python 3",
   "language": "python",
   "name": "python3"
  },
  "language_info": {
   "codemirror_mode": {
    "name": "ipython",
    "version": 3
   },
   "file_extension": ".py",
   "mimetype": "text/x-python",
   "name": "python",
   "nbconvert_exporter": "python",
   "pygments_lexer": "ipython3",
   "version": "3.7.9"
  }
 },
 "nbformat": 4,
 "nbformat_minor": 4
}

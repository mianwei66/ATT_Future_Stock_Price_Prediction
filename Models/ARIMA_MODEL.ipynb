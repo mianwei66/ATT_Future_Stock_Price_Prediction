{
 "cells": [
  {
   "cell_type": "code",
   "execution_count": 86,
   "metadata": {},
   "outputs": [],
   "source": [
    "%matplotlib inline\n",
    "\n",
    "import numpy as np\n",
    "import pandas as pd\n",
    "import matplotlib.pyplot as plt\n",
    "from scipy import signal\n",
    "from scipy import stats\n",
    "from sklearn.metrics import mean_squared_error\n",
    "import statsmodels.api as sm\n",
    "from statsmodels.tsa.arima_model import ARIMA\n",
    "from statsmodels.tsa.arima_process import ArmaProcess\n",
    "from statsmodels.tsa.statespace.sarimax import SARIMAX\n",
    "\n",
    "# Always make it pretty.\n",
    "plt.style.use('ggplot')\n",
    "\n",
    "# We get some interger -> float typecast warning from sklean below, this keeps them out of our hair.\n",
    "import warnings\n",
    "warnings.filterwarnings('ignore')"
   ]
  },
  {
   "cell_type": "code",
   "execution_count": 89,
   "metadata": {
    "scrolled": true
   },
   "outputs": [],
   "source": [
    "ATT = pd.read_csv('ATT1.csv')\n",
    "#ngs_df = pd.read_csv('data/training.csv')"
   ]
  },
  {
   "cell_type": "code",
   "execution_count": 90,
   "metadata": {},
   "outputs": [
    {
     "data": {
      "text/html": [
       "<div>\n",
       "<style scoped>\n",
       "    .dataframe tbody tr th:only-of-type {\n",
       "        vertical-align: middle;\n",
       "    }\n",
       "\n",
       "    .dataframe tbody tr th {\n",
       "        vertical-align: top;\n",
       "    }\n",
       "\n",
       "    .dataframe thead th {\n",
       "        text-align: right;\n",
       "    }\n",
       "</style>\n",
       "<table border=\"1\" class=\"dataframe\">\n",
       "  <thead>\n",
       "    <tr style=\"text-align: right;\">\n",
       "      <th></th>\n",
       "      <th>date</th>\n",
       "      <th>open</th>\n",
       "      <th>high</th>\n",
       "      <th>low</th>\n",
       "      <th>close</th>\n",
       "      <th>volume</th>\n",
       "    </tr>\n",
       "  </thead>\n",
       "  <tbody>\n",
       "    <tr>\n",
       "      <th>0</th>\n",
       "      <td>1984-07-19</td>\n",
       "      <td>1.0554</td>\n",
       "      <td>1.0576</td>\n",
       "      <td>1.0489</td>\n",
       "      <td>1.0489</td>\n",
       "      <td>934800</td>\n",
       "    </tr>\n",
       "    <tr>\n",
       "      <th>1</th>\n",
       "      <td>1984-07-20</td>\n",
       "      <td>1.0532</td>\n",
       "      <td>1.0599</td>\n",
       "      <td>1.0466</td>\n",
       "      <td>1.0510</td>\n",
       "      <td>1557600</td>\n",
       "    </tr>\n",
       "    <tr>\n",
       "      <th>2</th>\n",
       "      <td>1984-07-23</td>\n",
       "      <td>1.0466</td>\n",
       "      <td>1.0554</td>\n",
       "      <td>1.0378</td>\n",
       "      <td>1.0510</td>\n",
       "      <td>3313200</td>\n",
       "    </tr>\n",
       "    <tr>\n",
       "      <th>3</th>\n",
       "      <td>1984-07-24</td>\n",
       "      <td>1.0554</td>\n",
       "      <td>1.0666</td>\n",
       "      <td>1.0532</td>\n",
       "      <td>1.0599</td>\n",
       "      <td>1549200</td>\n",
       "    </tr>\n",
       "    <tr>\n",
       "      <th>4</th>\n",
       "      <td>1984-07-25</td>\n",
       "      <td>1.0599</td>\n",
       "      <td>1.0841</td>\n",
       "      <td>1.0576</td>\n",
       "      <td>1.0731</td>\n",
       "      <td>1828800</td>\n",
       "    </tr>\n",
       "    <tr>\n",
       "      <th>...</th>\n",
       "      <td>...</td>\n",
       "      <td>...</td>\n",
       "      <td>...</td>\n",
       "      <td>...</td>\n",
       "      <td>...</td>\n",
       "      <td>...</td>\n",
       "    </tr>\n",
       "    <tr>\n",
       "      <th>9185</th>\n",
       "      <td>2020-12-24</td>\n",
       "      <td>28.7300</td>\n",
       "      <td>28.7600</td>\n",
       "      <td>28.5000</td>\n",
       "      <td>28.6900</td>\n",
       "      <td>19153092</td>\n",
       "    </tr>\n",
       "    <tr>\n",
       "      <th>9186</th>\n",
       "      <td>2020-12-28</td>\n",
       "      <td>28.9300</td>\n",
       "      <td>28.9591</td>\n",
       "      <td>28.5000</td>\n",
       "      <td>28.5500</td>\n",
       "      <td>41575385</td>\n",
       "    </tr>\n",
       "    <tr>\n",
       "      <th>9187</th>\n",
       "      <td>2020-12-29</td>\n",
       "      <td>28.6900</td>\n",
       "      <td>28.8800</td>\n",
       "      <td>28.5100</td>\n",
       "      <td>28.5400</td>\n",
       "      <td>36544749</td>\n",
       "    </tr>\n",
       "    <tr>\n",
       "      <th>9188</th>\n",
       "      <td>2020-12-30</td>\n",
       "      <td>28.5400</td>\n",
       "      <td>28.6800</td>\n",
       "      <td>28.4300</td>\n",
       "      <td>28.4900</td>\n",
       "      <td>34302430</td>\n",
       "    </tr>\n",
       "    <tr>\n",
       "      <th>9189</th>\n",
       "      <td>2020-12-31</td>\n",
       "      <td>28.4500</td>\n",
       "      <td>28.8000</td>\n",
       "      <td>28.3900</td>\n",
       "      <td>28.7600</td>\n",
       "      <td>38588231</td>\n",
       "    </tr>\n",
       "  </tbody>\n",
       "</table>\n",
       "<p>9190 rows × 6 columns</p>\n",
       "</div>"
      ],
      "text/plain": [
       "            date     open     high      low    close    volume\n",
       "0     1984-07-19   1.0554   1.0576   1.0489   1.0489    934800\n",
       "1     1984-07-20   1.0532   1.0599   1.0466   1.0510   1557600\n",
       "2     1984-07-23   1.0466   1.0554   1.0378   1.0510   3313200\n",
       "3     1984-07-24   1.0554   1.0666   1.0532   1.0599   1549200\n",
       "4     1984-07-25   1.0599   1.0841   1.0576   1.0731   1828800\n",
       "...          ...      ...      ...      ...      ...       ...\n",
       "9185  2020-12-24  28.7300  28.7600  28.5000  28.6900  19153092\n",
       "9186  2020-12-28  28.9300  28.9591  28.5000  28.5500  41575385\n",
       "9187  2020-12-29  28.6900  28.8800  28.5100  28.5400  36544749\n",
       "9188  2020-12-30  28.5400  28.6800  28.4300  28.4900  34302430\n",
       "9189  2020-12-31  28.4500  28.8000  28.3900  28.7600  38588231\n",
       "\n",
       "[9190 rows x 6 columns]"
      ]
     },
     "execution_count": 90,
     "metadata": {},
     "output_type": "execute_result"
    }
   ],
   "source": [
    "ATT"
   ]
  },
  {
   "cell_type": "code",
   "execution_count": 91,
   "metadata": {},
   "outputs": [],
   "source": [
    "ATT['date'] = pd.to_datetime(ATT['date'], infer_datetime_format = True)"
   ]
  },
  {
   "cell_type": "code",
   "execution_count": 92,
   "metadata": {},
   "outputs": [
    {
     "name": "stdout",
     "output_type": "stream",
     "text": [
      "<class 'pandas.core.frame.DataFrame'>\n",
      "RangeIndex: 9190 entries, 0 to 9189\n",
      "Data columns (total 6 columns):\n",
      " #   Column  Non-Null Count  Dtype         \n",
      "---  ------  --------------  -----         \n",
      " 0   date    9190 non-null   datetime64[ns]\n",
      " 1   open    9190 non-null   float64       \n",
      " 2   high    9190 non-null   float64       \n",
      " 3   low     9190 non-null   float64       \n",
      " 4   close   9190 non-null   float64       \n",
      " 5   volume  9190 non-null   int64         \n",
      "dtypes: datetime64[ns](1), float64(4), int64(1)\n",
      "memory usage: 430.9 KB\n"
     ]
    }
   ],
   "source": [
    "ATT.info()"
   ]
  },
  {
   "cell_type": "code",
   "execution_count": 93,
   "metadata": {},
   "outputs": [],
   "source": [
    "ATT = ATT.set_index('date')"
   ]
  },
  {
   "cell_type": "code",
   "execution_count": 94,
   "metadata": {},
   "outputs": [],
   "source": [
    "close = ATT['close']"
   ]
  },
  {
   "cell_type": "code",
   "execution_count": 95,
   "metadata": {
    "scrolled": true
   },
   "outputs": [
    {
     "data": {
      "text/plain": [
       "date\n",
       "1984-07-19     1.0489\n",
       "1984-07-20     1.0510\n",
       "1984-07-23     1.0510\n",
       "1984-07-24     1.0599\n",
       "1984-07-25     1.0731\n",
       "               ...   \n",
       "2020-12-24    28.6900\n",
       "2020-12-28    28.5500\n",
       "2020-12-29    28.5400\n",
       "2020-12-30    28.4900\n",
       "2020-12-31    28.7600\n",
       "Name: close, Length: 9190, dtype: float64"
      ]
     },
     "execution_count": 95,
     "metadata": {},
     "output_type": "execute_result"
    }
   ],
   "source": [
    "close"
   ]
  },
  {
   "cell_type": "code",
   "execution_count": 96,
   "metadata": {
    "scrolled": true
   },
   "outputs": [
    {
     "name": "stdout",
     "output_type": "stream",
     "text": [
      "ADF p-value for differenced close prices: 0.00\n"
     ]
    }
   ],
   "source": [
    "#diff\n",
    "close_diff = close.diff()[1:]\n",
    "test = sm.tsa.stattools.adfuller(close_diff)\n",
    "print(\"ADF p-value for differenced close prices: {0:2.2f}\".format(test[1]))"
   ]
  },
  {
   "cell_type": "code",
   "execution_count": 119,
   "metadata": {
    "scrolled": true
   },
   "outputs": [
    {
     "data": {
      "text/plain": [
       "Text(0.5, 1.0, 'AT&T Close Price detrend')"
      ]
     },
     "execution_count": 119,
     "metadata": {},
     "output_type": "execute_result"
    },
    {
     "data": {
      "image/png": "[encoded data removed]",
      "text/plain": [
       "<Figure size 1080x216 with 1 Axes>"
      ]
     },
     "metadata": {},
     "output_type": "display_data"
    }
   ],
   "source": [
    "close_diff\n",
    "\n",
    "fig, ax = plt.subplots(figsize = (15,3))\n",
    "close_diff.plot(kind='line')\n",
    "ax.set_title(f'AT&T Close Price detrend', fontsize = 25) \n",
    "# ax.set_ylabel('price (in $)', fontsize = 20)"
   ]
  },
  {
   "cell_type": "code",
   "execution_count": 107,
   "metadata": {},
   "outputs": [
    {
     "data": {
      "image/png": "[encoded data removed]",
      "text/plain": [
       "<Figure size 1008x360 with 1 Axes>"
      ]
     },
     "metadata": {},
     "output_type": "display_data"
    }
   ],
   "source": [
    "#MA\n",
    "fig, ax = plt.subplots(1, figsize=(14, 5))\n",
    "_ = sm.graphics.tsa.plot_acf(close_diff, lags=25, ax=ax)"
   ]
  },
  {
   "cell_type": "code",
   "execution_count": 108,
   "metadata": {},
   "outputs": [
    {
     "data": {
      "image/png": "[encoded data removed]",
      "text/plain": [
       "<Figure size 1008x360 with 1 Axes>"
      ]
     },
     "metadata": {},
     "output_type": "display_data"
    }
   ],
   "source": [
    "#PACF\n",
    "fig, ax = plt.subplots(1, figsize=(14, 5))\n",
    "_ = sm.graphics.tsa.plot_pacf(close_diff, lags=25, ax=ax)"
   ]
  },
  {
   "cell_type": "code",
   "execution_count": 99,
   "metadata": {},
   "outputs": [
    {
     "name": "stdout",
     "output_type": "stream",
     "text": [
      "(8271,) (919,)\n"
     ]
    }
   ],
   "source": [
    "train_size = int(len(close) * 0.9)\n",
    "test_size = len(close) - train_size\n",
    "train, test = close[0:train_size], close[train_size:len(ATT)]\n",
    "\n",
    "print(train.shape,test.shape)"
   ]
  },
  {
   "cell_type": "markdown",
   "metadata": {},
   "source": [
    "# ARIMA Modeling:"
   ]
  },
  {
   "cell_type": "code",
   "execution_count": 55,
   "metadata": {
    "scrolled": true
   },
   "outputs": [
    {
     "name": "stdout",
     "output_type": "stream",
     "text": [
      "(0, 0, 0) 57979.194878479604\n",
      "(0, 0, 1) 46836.54210845526\n",
      "(0, 0, 2) 37195.04082467224\n",
      "(0, 0, 3) 29837.95034032994\n",
      "(0, 1, 0) -2236.841418693464\n",
      "(0, 1, 1) -2242.3598236446196\n",
      "(0, 1, 2) -2248.6769625326233\n",
      "(0, 1, 3) -2252.94202142999\n",
      "(1, 0, 0) -2225.013680711898\n",
      "(1, 0, 1) -2230.308988431505\n",
      "(1, 0, 2) -2236.37202076468\n",
      "(1, 0, 3) -2240.4035873980974\n",
      "(1, 1, 0) -2241.901841477549\n",
      "(1, 1, 1) -2264.6664504787877\n",
      "(1, 1, 2) -2263.5077755197453\n",
      "(1, 1, 3) -2261.962581659802\n",
      "(2, 0, 0) -2229.870973263787\n",
      "(2, 0, 1) -2247.506785302423\n",
      "(2, 0, 2) -2246.492200707082\n",
      "(2, 0, 3) -2248.7705791415683\n",
      "(2, 1, 0) -2247.40143847312\n",
      "(2, 1, 1) -2263.5280045989784\n",
      "(2, 1, 2) -2263.4259254769095\n",
      "(2, 1, 3) -2259.8794777387157\n",
      "(3, 0, 0) -2235.156359728673\n",
      "(3, 0, 1) -2245.966987386546\n",
      "(3, 0, 3) -2236.489592679176\n",
      "(3, 1, 0) -2250.7462316658675\n",
      "(3, 1, 1) -2262.0376233907045\n",
      "(3, 1, 2) -2259.901376873957\n",
      "(3, 1, 3) -2268.440286072917\n",
      "(4, 0, 0) -2238.3192333119114\n",
      "(4, 0, 1) -2245.022303381793\n",
      "(4, 0, 2) -2234.8119871596828\n",
      "(4, 0, 3) -2238.341660600756\n",
      "(4, 1, 0) -2254.5152960972555\n",
      "(4, 1, 1) -2261.1664687372977\n",
      "(4, 1, 2) -2260.129587244548\n",
      "(4, 1, 3) -2257.8020628868835\n",
      "(5, 0, 0) -2241.8921346983334\n",
      "(5, 0, 1) -2244.0563871417\n",
      "(5, 0, 2) -2233.534641316248\n",
      "(5, 0, 3) -2242.368021789276\n",
      "(5, 1, 0) -2259.4595365887544\n",
      "(5, 1, 1) -2260.304994369002\n",
      "(5, 1, 2) -2258.3543797519633\n",
      "(5, 1, 3) -2256.6481652873626\n"
     ]
    }
   ],
   "source": [
    "p=0\n",
    "q=0\n",
    "d=0\n",
    "pdq=[]\n",
    "aic=[]\n",
    "for p in range(6):\n",
    "    for d in range(2):\n",
    "        for q in range(4):\n",
    "            try:\n",
    "                arima_mod=sm.tsa.ARIMA(train,(p,d,q)).fit(transparams=True)\n",
    "\n",
    "                x=arima_mod.aic\n",
    "\n",
    "                x1= p,d,q\n",
    "                print (x1,x)\n",
    "\n",
    "                aic.append(x)\n",
    "                pdq.append(x1)\n",
    "            except:\n",
    "                pass\n",
    "\n"
   ]
  },
  {
   "cell_type": "code",
   "execution_count": 122,
   "metadata": {},
   "outputs": [],
   "source": [
    "close_model = ARIMA(train, order=(3, 1, 3)).fit()"
   ]
  },
  {
   "cell_type": "code",
   "execution_count": 101,
   "metadata": {
    "scrolled": false
   },
   "outputs": [
    {
     "data": {
      "text/plain": [
       "const            0.003631\n",
       "ar.L1.D.close    0.010298\n",
       "ar.L2.D.close   -0.381381\n",
       "ar.L3.D.close    0.774841\n",
       "ma.L1.D.close   -0.048169\n",
       "ma.L2.D.close    0.347164\n",
       "ma.L3.D.close   -0.807469\n",
       "dtype: float64"
      ]
     },
     "execution_count": 101,
     "metadata": {},
     "output_type": "execute_result"
    }
   ],
   "source": [
    "close_model.params"
   ]
  },
  {
   "cell_type": "code",
   "execution_count": 102,
   "metadata": {},
   "outputs": [],
   "source": [
    "close_pred = close_model.forecast(steps=919)[0]"
   ]
  },
  {
   "cell_type": "markdown",
   "metadata": {},
   "source": [
    "# Evaluate the ARIMA Model:"
   ]
  },
  {
   "cell_type": "code",
   "execution_count": 120,
   "metadata": {},
   "outputs": [],
   "source": [
    "def RMSE(y_predict, y_actual):\n",
    "    return np.sqrt(((y_predict - y_actual)**2).mean())"
   ]
  },
  {
   "cell_type": "code",
   "execution_count": 121,
   "metadata": {},
   "outputs": [
    {
     "data": {
      "text/plain": [
       "'RMSE_ARIMA: 3.9038336539623018'"
      ]
     },
     "execution_count": 121,
     "metadata": {},
     "output_type": "execute_result"
    }
   ],
   "source": [
    "f'RMSE_ARIMA: {RMSE(close_pred,test)}'"
   ]
  }
 ],
 "metadata": {
  "kernelspec": {
   "display_name": "Python 3",
   "language": "python",
   "name": "python3"
  },
  "language_info": {
   "codemirror_mode": {
    "name": "ipython",
    "version": 3
   },
   "file_extension": ".py",
   "mimetype": "text/x-python",
   "name": "python",
   "nbconvert_exporter": "python",
   "pygments_lexer": "ipython3",
   "version": "3.7.9"
  }
 },
 "nbformat": 4,
 "nbformat_minor": 4
}

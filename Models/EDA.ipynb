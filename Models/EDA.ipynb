{
 "cells": [
  {
   "cell_type": "code",
   "execution_count": 10,
   "metadata": {},
   "outputs": [],
   "source": [
    "import pandas as pd\n",
    "import math\n",
    "import numpy as np\n",
    "import matplotlib.pyplot as plt\n",
    "\n",
    "%matplotlib inline"
   ]
  },
  {
   "cell_type": "code",
   "execution_count": 11,
   "metadata": {},
   "outputs": [],
   "source": [
    "ATT = pd.read_csv('ATT1.csv')"
   ]
  },
  {
   "cell_type": "code",
   "execution_count": 12,
   "metadata": {},
   "outputs": [
    {
     "name": "stdout",
     "output_type": "stream",
     "text": [
      "<class 'pandas.core.frame.DataFrame'>\n",
      "RangeIndex: 9190 entries, 0 to 9189\n",
      "Data columns (total 6 columns):\n",
      " #   Column  Non-Null Count  Dtype  \n",
      "---  ------  --------------  -----  \n",
      " 0   date    9190 non-null   object \n",
      " 1   open    9190 non-null   float64\n",
      " 2   high    9190 non-null   float64\n",
      " 3   low     9190 non-null   float64\n",
      " 4   close   9190 non-null   float64\n",
      " 5   volume  9190 non-null   int64  \n",
      "dtypes: float64(4), int64(1), object(1)\n",
      "memory usage: 430.9+ KB\n"
     ]
    }
   ],
   "source": [
    "ATT.info()"
   ]
  },
  {
   "cell_type": "code",
   "execution_count": 15,
   "metadata": {},
   "outputs": [],
   "source": [
    "ATT['date'] = pd.to_datetime(ATT['date'], infer_datetime_format = True)"
   ]
  },
  {
   "cell_type": "code",
   "execution_count": 16,
   "metadata": {},
   "outputs": [
    {
     "data": {
      "text/html": [
       "<div>\n",
       "<style scoped>\n",
       "    .dataframe tbody tr th:only-of-type {\n",
       "        vertical-align: middle;\n",
       "    }\n",
       "\n",
       "    .dataframe tbody tr th {\n",
       "        vertical-align: top;\n",
       "    }\n",
       "\n",
       "    .dataframe thead th {\n",
       "        text-align: right;\n",
       "    }\n",
       "</style>\n",
       "<table border=\"1\" class=\"dataframe\">\n",
       "  <thead>\n",
       "    <tr style=\"text-align: right;\">\n",
       "      <th></th>\n",
       "      <th>date</th>\n",
       "      <th>open</th>\n",
       "      <th>high</th>\n",
       "      <th>low</th>\n",
       "      <th>close</th>\n",
       "      <th>volume</th>\n",
       "    </tr>\n",
       "  </thead>\n",
       "  <tbody>\n",
       "    <tr>\n",
       "      <th>0</th>\n",
       "      <td>1984-07-19</td>\n",
       "      <td>1.0554</td>\n",
       "      <td>1.0576</td>\n",
       "      <td>1.0489</td>\n",
       "      <td>1.0489</td>\n",
       "      <td>934800</td>\n",
       "    </tr>\n",
       "    <tr>\n",
       "      <th>1</th>\n",
       "      <td>1984-07-20</td>\n",
       "      <td>1.0532</td>\n",
       "      <td>1.0599</td>\n",
       "      <td>1.0466</td>\n",
       "      <td>1.0510</td>\n",
       "      <td>1557600</td>\n",
       "    </tr>\n",
       "    <tr>\n",
       "      <th>2</th>\n",
       "      <td>1984-07-23</td>\n",
       "      <td>1.0466</td>\n",
       "      <td>1.0554</td>\n",
       "      <td>1.0378</td>\n",
       "      <td>1.0510</td>\n",
       "      <td>3313200</td>\n",
       "    </tr>\n",
       "    <tr>\n",
       "      <th>3</th>\n",
       "      <td>1984-07-24</td>\n",
       "      <td>1.0554</td>\n",
       "      <td>1.0666</td>\n",
       "      <td>1.0532</td>\n",
       "      <td>1.0599</td>\n",
       "      <td>1549200</td>\n",
       "    </tr>\n",
       "    <tr>\n",
       "      <th>4</th>\n",
       "      <td>1984-07-25</td>\n",
       "      <td>1.0599</td>\n",
       "      <td>1.0841</td>\n",
       "      <td>1.0576</td>\n",
       "      <td>1.0731</td>\n",
       "      <td>1828800</td>\n",
       "    </tr>\n",
       "    <tr>\n",
       "      <th>...</th>\n",
       "      <td>...</td>\n",
       "      <td>...</td>\n",
       "      <td>...</td>\n",
       "      <td>...</td>\n",
       "      <td>...</td>\n",
       "      <td>...</td>\n",
       "    </tr>\n",
       "    <tr>\n",
       "      <th>9185</th>\n",
       "      <td>2020-12-24</td>\n",
       "      <td>28.7300</td>\n",
       "      <td>28.7600</td>\n",
       "      <td>28.5000</td>\n",
       "      <td>28.6900</td>\n",
       "      <td>19153092</td>\n",
       "    </tr>\n",
       "    <tr>\n",
       "      <th>9186</th>\n",
       "      <td>2020-12-28</td>\n",
       "      <td>28.9300</td>\n",
       "      <td>28.9591</td>\n",
       "      <td>28.5000</td>\n",
       "      <td>28.5500</td>\n",
       "      <td>41575385</td>\n",
       "    </tr>\n",
       "    <tr>\n",
       "      <th>9187</th>\n",
       "      <td>2020-12-29</td>\n",
       "      <td>28.6900</td>\n",
       "      <td>28.8800</td>\n",
       "      <td>28.5100</td>\n",
       "      <td>28.5400</td>\n",
       "      <td>36544749</td>\n",
       "    </tr>\n",
       "    <tr>\n",
       "      <th>9188</th>\n",
       "      <td>2020-12-30</td>\n",
       "      <td>28.5400</td>\n",
       "      <td>28.6800</td>\n",
       "      <td>28.4300</td>\n",
       "      <td>28.4900</td>\n",
       "      <td>34302430</td>\n",
       "    </tr>\n",
       "    <tr>\n",
       "      <th>9189</th>\n",
       "      <td>2020-12-31</td>\n",
       "      <td>28.4500</td>\n",
       "      <td>28.8000</td>\n",
       "      <td>28.3900</td>\n",
       "      <td>28.7600</td>\n",
       "      <td>38588231</td>\n",
       "    </tr>\n",
       "  </tbody>\n",
       "</table>\n",
       "<p>9190 rows × 6 columns</p>\n",
       "</div>"
      ],
      "text/plain": [
       "           date     open     high      low    close    volume\n",
       "0    1984-07-19   1.0554   1.0576   1.0489   1.0489    934800\n",
       "1    1984-07-20   1.0532   1.0599   1.0466   1.0510   1557600\n",
       "2    1984-07-23   1.0466   1.0554   1.0378   1.0510   3313200\n",
       "3    1984-07-24   1.0554   1.0666   1.0532   1.0599   1549200\n",
       "4    1984-07-25   1.0599   1.0841   1.0576   1.0731   1828800\n",
       "...         ...      ...      ...      ...      ...       ...\n",
       "9185 2020-12-24  28.7300  28.7600  28.5000  28.6900  19153092\n",
       "9186 2020-12-28  28.9300  28.9591  28.5000  28.5500  41575385\n",
       "9187 2020-12-29  28.6900  28.8800  28.5100  28.5400  36544749\n",
       "9188 2020-12-30  28.5400  28.6800  28.4300  28.4900  34302430\n",
       "9189 2020-12-31  28.4500  28.8000  28.3900  28.7600  38588231\n",
       "\n",
       "[9190 rows x 6 columns]"
      ]
     },
     "execution_count": 16,
     "metadata": {},
     "output_type": "execute_result"
    }
   ],
   "source": [
    "ATT"
   ]
  },
  {
   "cell_type": "code",
   "execution_count": 17,
   "metadata": {},
   "outputs": [
    {
     "name": "stdout",
     "output_type": "stream",
     "text": [
      "<class 'pandas.core.frame.DataFrame'>\n",
      "RangeIndex: 9190 entries, 0 to 9189\n",
      "Data columns (total 6 columns):\n",
      " #   Column  Non-Null Count  Dtype         \n",
      "---  ------  --------------  -----         \n",
      " 0   date    9190 non-null   datetime64[ns]\n",
      " 1   open    9190 non-null   float64       \n",
      " 2   high    9190 non-null   float64       \n",
      " 3   low     9190 non-null   float64       \n",
      " 4   close   9190 non-null   float64       \n",
      " 5   volume  9190 non-null   int64         \n",
      "dtypes: datetime64[ns](1), float64(4), int64(1)\n",
      "memory usage: 430.9 KB\n"
     ]
    }
   ],
   "source": [
    "ATT.info()"
   ]
  },
  {
   "cell_type": "code",
   "execution_count": 18,
   "metadata": {},
   "outputs": [],
   "source": [
    "ATT = ATT.set_index('date')"
   ]
  },
  {
   "cell_type": "code",
   "execution_count": 19,
   "metadata": {
    "scrolled": true
   },
   "outputs": [
    {
     "data": {
      "text/html": [
       "<div>\n",
       "<style scoped>\n",
       "    .dataframe tbody tr th:only-of-type {\n",
       "        vertical-align: middle;\n",
       "    }\n",
       "\n",
       "    .dataframe tbody tr th {\n",
       "        vertical-align: top;\n",
       "    }\n",
       "\n",
       "    .dataframe thead th {\n",
       "        text-align: right;\n",
       "    }\n",
       "</style>\n",
       "<table border=\"1\" class=\"dataframe\">\n",
       "  <thead>\n",
       "    <tr style=\"text-align: right;\">\n",
       "      <th></th>\n",
       "      <th>open</th>\n",
       "      <th>high</th>\n",
       "      <th>low</th>\n",
       "      <th>close</th>\n",
       "      <th>volume</th>\n",
       "    </tr>\n",
       "    <tr>\n",
       "      <th>date</th>\n",
       "      <th></th>\n",
       "      <th></th>\n",
       "      <th></th>\n",
       "      <th></th>\n",
       "      <th></th>\n",
       "    </tr>\n",
       "  </thead>\n",
       "  <tbody>\n",
       "    <tr>\n",
       "      <th>1984-07-19</th>\n",
       "      <td>1.0554</td>\n",
       "      <td>1.0576</td>\n",
       "      <td>1.0489</td>\n",
       "      <td>1.0489</td>\n",
       "      <td>934800</td>\n",
       "    </tr>\n",
       "    <tr>\n",
       "      <th>1984-07-20</th>\n",
       "      <td>1.0532</td>\n",
       "      <td>1.0599</td>\n",
       "      <td>1.0466</td>\n",
       "      <td>1.0510</td>\n",
       "      <td>1557600</td>\n",
       "    </tr>\n",
       "    <tr>\n",
       "      <th>1984-07-23</th>\n",
       "      <td>1.0466</td>\n",
       "      <td>1.0554</td>\n",
       "      <td>1.0378</td>\n",
       "      <td>1.0510</td>\n",
       "      <td>3313200</td>\n",
       "    </tr>\n",
       "    <tr>\n",
       "      <th>1984-07-24</th>\n",
       "      <td>1.0554</td>\n",
       "      <td>1.0666</td>\n",
       "      <td>1.0532</td>\n",
       "      <td>1.0599</td>\n",
       "      <td>1549200</td>\n",
       "    </tr>\n",
       "    <tr>\n",
       "      <th>1984-07-25</th>\n",
       "      <td>1.0599</td>\n",
       "      <td>1.0841</td>\n",
       "      <td>1.0576</td>\n",
       "      <td>1.0731</td>\n",
       "      <td>1828800</td>\n",
       "    </tr>\n",
       "    <tr>\n",
       "      <th>...</th>\n",
       "      <td>...</td>\n",
       "      <td>...</td>\n",
       "      <td>...</td>\n",
       "      <td>...</td>\n",
       "      <td>...</td>\n",
       "    </tr>\n",
       "    <tr>\n",
       "      <th>2020-12-24</th>\n",
       "      <td>28.7300</td>\n",
       "      <td>28.7600</td>\n",
       "      <td>28.5000</td>\n",
       "      <td>28.6900</td>\n",
       "      <td>19153092</td>\n",
       "    </tr>\n",
       "    <tr>\n",
       "      <th>2020-12-28</th>\n",
       "      <td>28.9300</td>\n",
       "      <td>28.9591</td>\n",
       "      <td>28.5000</td>\n",
       "      <td>28.5500</td>\n",
       "      <td>41575385</td>\n",
       "    </tr>\n",
       "    <tr>\n",
       "      <th>2020-12-29</th>\n",
       "      <td>28.6900</td>\n",
       "      <td>28.8800</td>\n",
       "      <td>28.5100</td>\n",
       "      <td>28.5400</td>\n",
       "      <td>36544749</td>\n",
       "    </tr>\n",
       "    <tr>\n",
       "      <th>2020-12-30</th>\n",
       "      <td>28.5400</td>\n",
       "      <td>28.6800</td>\n",
       "      <td>28.4300</td>\n",
       "      <td>28.4900</td>\n",
       "      <td>34302430</td>\n",
       "    </tr>\n",
       "    <tr>\n",
       "      <th>2020-12-31</th>\n",
       "      <td>28.4500</td>\n",
       "      <td>28.8000</td>\n",
       "      <td>28.3900</td>\n",
       "      <td>28.7600</td>\n",
       "      <td>38588231</td>\n",
       "    </tr>\n",
       "  </tbody>\n",
       "</table>\n",
       "<p>9190 rows × 5 columns</p>\n",
       "</div>"
      ],
      "text/plain": [
       "               open     high      low    close    volume\n",
       "date                                                    \n",
       "1984-07-19   1.0554   1.0576   1.0489   1.0489    934800\n",
       "1984-07-20   1.0532   1.0599   1.0466   1.0510   1557600\n",
       "1984-07-23   1.0466   1.0554   1.0378   1.0510   3313200\n",
       "1984-07-24   1.0554   1.0666   1.0532   1.0599   1549200\n",
       "1984-07-25   1.0599   1.0841   1.0576   1.0731   1828800\n",
       "...             ...      ...      ...      ...       ...\n",
       "2020-12-24  28.7300  28.7600  28.5000  28.6900  19153092\n",
       "2020-12-28  28.9300  28.9591  28.5000  28.5500  41575385\n",
       "2020-12-29  28.6900  28.8800  28.5100  28.5400  36544749\n",
       "2020-12-30  28.5400  28.6800  28.4300  28.4900  34302430\n",
       "2020-12-31  28.4500  28.8000  28.3900  28.7600  38588231\n",
       "\n",
       "[9190 rows x 5 columns]"
      ]
     },
     "execution_count": 19,
     "metadata": {},
     "output_type": "execute_result"
    }
   ],
   "source": [
    "ATT"
   ]
  },
  {
   "cell_type": "code",
   "execution_count": 20,
   "metadata": {},
   "outputs": [
    {
     "name": "stdout",
     "output_type": "stream",
     "text": [
      "<class 'pandas.core.frame.DataFrame'>\n",
      "DatetimeIndex: 9190 entries, 1984-07-19 to 2020-12-31\n",
      "Data columns (total 5 columns):\n",
      " #   Column  Non-Null Count  Dtype  \n",
      "---  ------  --------------  -----  \n",
      " 0   open    9190 non-null   float64\n",
      " 1   high    9190 non-null   float64\n",
      " 2   low     9190 non-null   float64\n",
      " 3   close   9190 non-null   float64\n",
      " 4   volume  9190 non-null   int64  \n",
      "dtypes: float64(4), int64(1)\n",
      "memory usage: 430.8 KB\n"
     ]
    }
   ],
   "source": [
    "ATT.info()"
   ]
  },
  {
   "cell_type": "code",
   "execution_count": 21,
   "metadata": {},
   "outputs": [],
   "source": [
    "close = ATT['close']"
   ]
  },
  {
   "cell_type": "code",
   "execution_count": 26,
   "metadata": {},
   "outputs": [
    {
     "data": {
      "text/plain": [
       "Timestamp('1984-07-19 00:00:00')"
      ]
     },
     "execution_count": 26,
     "metadata": {},
     "output_type": "execute_result"
    }
   ],
   "source": [
    "ATT.index[0]"
   ]
  },
  {
   "cell_type": "code",
   "execution_count": 28,
   "metadata": {},
   "outputs": [
    {
     "data": {
      "text/plain": [
       "9190"
      ]
     },
     "execution_count": 28,
     "metadata": {},
     "output_type": "execute_result"
    }
   ],
   "source": [
    "len(ATT)"
   ]
  },
  {
   "cell_type": "code",
   "execution_count": 41,
   "metadata": {
    "scrolled": true
   },
   "outputs": [
    {
     "data": {
      "text/plain": [
       "Text(0, 0.5, 'price (in $)')"
      ]
     },
     "execution_count": 41,
     "metadata": {},
     "output_type": "execute_result"
    },
    {
     "data": {
      "image/png": "[encoded data removed]",
      "text/plain": [
       "<Figure size 1080x576 with 1 Axes>"
      ]
     },
     "metadata": {
      "needs_background": "light"
     },
     "output_type": "display_data"
    }
   ],
   "source": [
    "fig, ax = plt.subplots(figsize = (15,8))\n",
    "close.plot(kind='line')\n",
    "ax.set_title(f'AT&T Close Price Since 1984-07-19 to 2020-12-31', fontsize = 25) \n",
    "ax.set_ylabel('price (in $)', fontsize = 20)"
   ]
  },
  {
   "cell_type": "code",
   "execution_count": null,
   "metadata": {},
   "outputs": [],
   "source": [
    "close.plot(kind='line')"
   ]
  },
  {
   "cell_type": "code",
   "execution_count": null,
   "metadata": {},
   "outputs": [],
   "source": [
    "#baseline RMSE"
   ]
  },
  {
   "cell_type": "code",
   "execution_count": 36,
   "metadata": {},
   "outputs": [],
   "source": [
    "def RMSE(y_predict, y_actual):\n",
    "    return np.sqrt(((y_predict - y_actual)**2).mean())"
   ]
  },
  {
   "cell_type": "code",
   "execution_count": 37,
   "metadata": {},
   "outputs": [],
   "source": [
    "y_actual = close"
   ]
  },
  {
   "cell_type": "code",
   "execution_count": 39,
   "metadata": {},
   "outputs": [
    {
     "data": {
      "text/plain": [
       "9.397856748676846"
      ]
     },
     "execution_count": 39,
     "metadata": {},
     "output_type": "execute_result"
    }
   ],
   "source": [
    "y_predict = np.ones(len(y_actual))\n",
    "y_predict = y_predict*y_actual.mean()\n",
    "RMSE(y_predict,y_actual)"
   ]
  }
 ],
 "metadata": {
  "kernelspec": {
   "display_name": "Python 3",
   "language": "python",
   "name": "python3"
  },
  "language_info": {
   "codemirror_mode": {
    "name": "ipython",
    "version": 3
   },
   "file_extension": ".py",
   "mimetype": "text/x-python",
   "name": "python",
   "nbconvert_exporter": "python",
   "pygments_lexer": "ipython3",
   "version": "3.7.9"
  }
 },
 "nbformat": 4,
 "nbformat_minor": 4
}

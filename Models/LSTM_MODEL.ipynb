{
 "cells": [
  {
   "cell_type": "code",
   "execution_count": 274,
   "metadata": {
    "scrolled": true
   },
   "outputs": [],
   "source": [
    "import pandas as pd\n",
    "import math\n",
    "import numpy as np\n",
    "import matplotlib.pyplot as plt\n",
    "import tensorflow as tf\n",
    "keras = tf.keras\n",
    "import sklearn\n",
    "from keras.models import Sequential\n",
    "from keras.layers import Dense\n",
    "from keras.layers import LSTM\n",
    "from scipy import stats\n",
    "from sklearn.model_selection import train_test_split\n",
    "\n",
    "from sklearn.preprocessing import MinMaxScaler\n",
    "from sklearn.metrics import mean_squared_error\n",
    "from math import sqrt\n",
    "\n",
    "%matplotlib inline"
   ]
  },
  {
   "cell_type": "markdown",
   "metadata": {},
   "source": [
    "# Data Cleaning:"
   ]
  },
  {
   "cell_type": "code",
   "execution_count": 220,
   "metadata": {},
   "outputs": [],
   "source": [
    "ATT = pd.read_csv('ATT1.csv')"
   ]
  },
  {
   "cell_type": "code",
   "execution_count": 222,
   "metadata": {},
   "outputs": [],
   "source": [
    "ATT['date'] = pd.to_datetime(ATT['date'], infer_datetime_format = True)"
   ]
  },
  {
   "cell_type": "code",
   "execution_count": 283,
   "metadata": {},
   "outputs": [
    {
     "data": {
      "text/plain": [
       "(9190, 8)"
      ]
     },
     "execution_count": 283,
     "metadata": {},
     "output_type": "execute_result"
    }
   ],
   "source": [
    "ATT.shape"
   ]
  },
  {
   "cell_type": "code",
   "execution_count": 223,
   "metadata": {
    "scrolled": false
   },
   "outputs": [
    {
     "name": "stdout",
     "output_type": "stream",
     "text": [
      "<class 'pandas.core.frame.DataFrame'>\n",
      "RangeIndex: 9190 entries, 0 to 9189\n",
      "Data columns (total 6 columns):\n",
      " #   Column  Non-Null Count  Dtype         \n",
      "---  ------  --------------  -----         \n",
      " 0   date    9190 non-null   datetime64[ns]\n",
      " 1   open    9190 non-null   float64       \n",
      " 2   high    9190 non-null   float64       \n",
      " 3   low     9190 non-null   float64       \n",
      " 4   close   9190 non-null   float64       \n",
      " 5   volume  9190 non-null   int64         \n",
      "dtypes: datetime64[ns](1), float64(4), int64(1)\n",
      "memory usage: 430.9 KB\n"
     ]
    }
   ],
   "source": [
    "ATT.info()"
   ]
  },
  {
   "cell_type": "code",
   "execution_count": 224,
   "metadata": {
    "scrolled": true
   },
   "outputs": [],
   "source": [
    "ATT = ATT.set_index('date')"
   ]
  },
  {
   "cell_type": "code",
   "execution_count": 225,
   "metadata": {
    "scrolled": true
   },
   "outputs": [
    {
     "data": {
      "text/html": [
       "<div>\n",
       "<style scoped>\n",
       "    .dataframe tbody tr th:only-of-type {\n",
       "        vertical-align: middle;\n",
       "    }\n",
       "\n",
       "    .dataframe tbody tr th {\n",
       "        vertical-align: top;\n",
       "    }\n",
       "\n",
       "    .dataframe thead th {\n",
       "        text-align: right;\n",
       "    }\n",
       "</style>\n",
       "<table border=\"1\" class=\"dataframe\">\n",
       "  <thead>\n",
       "    <tr style=\"text-align: right;\">\n",
       "      <th></th>\n",
       "      <th>open</th>\n",
       "      <th>high</th>\n",
       "      <th>low</th>\n",
       "      <th>close</th>\n",
       "      <th>volume</th>\n",
       "    </tr>\n",
       "    <tr>\n",
       "      <th>date</th>\n",
       "      <th></th>\n",
       "      <th></th>\n",
       "      <th></th>\n",
       "      <th></th>\n",
       "      <th></th>\n",
       "    </tr>\n",
       "  </thead>\n",
       "  <tbody>\n",
       "    <tr>\n",
       "      <th>1984-07-19</th>\n",
       "      <td>1.0554</td>\n",
       "      <td>1.0576</td>\n",
       "      <td>1.0489</td>\n",
       "      <td>1.0489</td>\n",
       "      <td>934800</td>\n",
       "    </tr>\n",
       "    <tr>\n",
       "      <th>1984-07-20</th>\n",
       "      <td>1.0532</td>\n",
       "      <td>1.0599</td>\n",
       "      <td>1.0466</td>\n",
       "      <td>1.0510</td>\n",
       "      <td>1557600</td>\n",
       "    </tr>\n",
       "    <tr>\n",
       "      <th>1984-07-23</th>\n",
       "      <td>1.0466</td>\n",
       "      <td>1.0554</td>\n",
       "      <td>1.0378</td>\n",
       "      <td>1.0510</td>\n",
       "      <td>3313200</td>\n",
       "    </tr>\n",
       "    <tr>\n",
       "      <th>1984-07-24</th>\n",
       "      <td>1.0554</td>\n",
       "      <td>1.0666</td>\n",
       "      <td>1.0532</td>\n",
       "      <td>1.0599</td>\n",
       "      <td>1549200</td>\n",
       "    </tr>\n",
       "    <tr>\n",
       "      <th>1984-07-25</th>\n",
       "      <td>1.0599</td>\n",
       "      <td>1.0841</td>\n",
       "      <td>1.0576</td>\n",
       "      <td>1.0731</td>\n",
       "      <td>1828800</td>\n",
       "    </tr>\n",
       "    <tr>\n",
       "      <th>...</th>\n",
       "      <td>...</td>\n",
       "      <td>...</td>\n",
       "      <td>...</td>\n",
       "      <td>...</td>\n",
       "      <td>...</td>\n",
       "    </tr>\n",
       "    <tr>\n",
       "      <th>2020-12-24</th>\n",
       "      <td>28.7300</td>\n",
       "      <td>28.7600</td>\n",
       "      <td>28.5000</td>\n",
       "      <td>28.6900</td>\n",
       "      <td>19153092</td>\n",
       "    </tr>\n",
       "    <tr>\n",
       "      <th>2020-12-28</th>\n",
       "      <td>28.9300</td>\n",
       "      <td>28.9591</td>\n",
       "      <td>28.5000</td>\n",
       "      <td>28.5500</td>\n",
       "      <td>41575385</td>\n",
       "    </tr>\n",
       "    <tr>\n",
       "      <th>2020-12-29</th>\n",
       "      <td>28.6900</td>\n",
       "      <td>28.8800</td>\n",
       "      <td>28.5100</td>\n",
       "      <td>28.5400</td>\n",
       "      <td>36544749</td>\n",
       "    </tr>\n",
       "    <tr>\n",
       "      <th>2020-12-30</th>\n",
       "      <td>28.5400</td>\n",
       "      <td>28.6800</td>\n",
       "      <td>28.4300</td>\n",
       "      <td>28.4900</td>\n",
       "      <td>34302430</td>\n",
       "    </tr>\n",
       "    <tr>\n",
       "      <th>2020-12-31</th>\n",
       "      <td>28.4500</td>\n",
       "      <td>28.8000</td>\n",
       "      <td>28.3900</td>\n",
       "      <td>28.7600</td>\n",
       "      <td>38588231</td>\n",
       "    </tr>\n",
       "  </tbody>\n",
       "</table>\n",
       "<p>9190 rows × 5 columns</p>\n",
       "</div>"
      ],
      "text/plain": [
       "               open     high      low    close    volume\n",
       "date                                                    \n",
       "1984-07-19   1.0554   1.0576   1.0489   1.0489    934800\n",
       "1984-07-20   1.0532   1.0599   1.0466   1.0510   1557600\n",
       "1984-07-23   1.0466   1.0554   1.0378   1.0510   3313200\n",
       "1984-07-24   1.0554   1.0666   1.0532   1.0599   1549200\n",
       "1984-07-25   1.0599   1.0841   1.0576   1.0731   1828800\n",
       "...             ...      ...      ...      ...       ...\n",
       "2020-12-24  28.7300  28.7600  28.5000  28.6900  19153092\n",
       "2020-12-28  28.9300  28.9591  28.5000  28.5500  41575385\n",
       "2020-12-29  28.6900  28.8800  28.5100  28.5400  36544749\n",
       "2020-12-30  28.5400  28.6800  28.4300  28.4900  34302430\n",
       "2020-12-31  28.4500  28.8000  28.3900  28.7600  38588231\n",
       "\n",
       "[9190 rows x 5 columns]"
      ]
     },
     "execution_count": 225,
     "metadata": {},
     "output_type": "execute_result"
    }
   ],
   "source": [
    "ATT"
   ]
  },
  {
   "cell_type": "code",
   "execution_count": 226,
   "metadata": {},
   "outputs": [],
   "source": [
    "ATT['day_of_week'] = ATT.index.dayofweek\n",
    "ATT['day_of_month'] = ATT.index.day\n",
    "ATT['month'] = ATT.index.month"
   ]
  },
  {
   "cell_type": "code",
   "execution_count": 227,
   "metadata": {
    "scrolled": true
   },
   "outputs": [
    {
     "data": {
      "text/html": [
       "<div>\n",
       "<style scoped>\n",
       "    .dataframe tbody tr th:only-of-type {\n",
       "        vertical-align: middle;\n",
       "    }\n",
       "\n",
       "    .dataframe tbody tr th {\n",
       "        vertical-align: top;\n",
       "    }\n",
       "\n",
       "    .dataframe thead th {\n",
       "        text-align: right;\n",
       "    }\n",
       "</style>\n",
       "<table border=\"1\" class=\"dataframe\">\n",
       "  <thead>\n",
       "    <tr style=\"text-align: right;\">\n",
       "      <th></th>\n",
       "      <th>open</th>\n",
       "      <th>high</th>\n",
       "      <th>low</th>\n",
       "      <th>close</th>\n",
       "      <th>volume</th>\n",
       "      <th>day_of_week</th>\n",
       "      <th>day_of_month</th>\n",
       "      <th>month</th>\n",
       "    </tr>\n",
       "    <tr>\n",
       "      <th>date</th>\n",
       "      <th></th>\n",
       "      <th></th>\n",
       "      <th></th>\n",
       "      <th></th>\n",
       "      <th></th>\n",
       "      <th></th>\n",
       "      <th></th>\n",
       "      <th></th>\n",
       "    </tr>\n",
       "  </thead>\n",
       "  <tbody>\n",
       "    <tr>\n",
       "      <th>1984-07-19</th>\n",
       "      <td>1.0554</td>\n",
       "      <td>1.0576</td>\n",
       "      <td>1.0489</td>\n",
       "      <td>1.0489</td>\n",
       "      <td>934800</td>\n",
       "      <td>3</td>\n",
       "      <td>19</td>\n",
       "      <td>7</td>\n",
       "    </tr>\n",
       "    <tr>\n",
       "      <th>1984-07-20</th>\n",
       "      <td>1.0532</td>\n",
       "      <td>1.0599</td>\n",
       "      <td>1.0466</td>\n",
       "      <td>1.0510</td>\n",
       "      <td>1557600</td>\n",
       "      <td>4</td>\n",
       "      <td>20</td>\n",
       "      <td>7</td>\n",
       "    </tr>\n",
       "    <tr>\n",
       "      <th>1984-07-23</th>\n",
       "      <td>1.0466</td>\n",
       "      <td>1.0554</td>\n",
       "      <td>1.0378</td>\n",
       "      <td>1.0510</td>\n",
       "      <td>3313200</td>\n",
       "      <td>0</td>\n",
       "      <td>23</td>\n",
       "      <td>7</td>\n",
       "    </tr>\n",
       "    <tr>\n",
       "      <th>1984-07-24</th>\n",
       "      <td>1.0554</td>\n",
       "      <td>1.0666</td>\n",
       "      <td>1.0532</td>\n",
       "      <td>1.0599</td>\n",
       "      <td>1549200</td>\n",
       "      <td>1</td>\n",
       "      <td>24</td>\n",
       "      <td>7</td>\n",
       "    </tr>\n",
       "    <tr>\n",
       "      <th>1984-07-25</th>\n",
       "      <td>1.0599</td>\n",
       "      <td>1.0841</td>\n",
       "      <td>1.0576</td>\n",
       "      <td>1.0731</td>\n",
       "      <td>1828800</td>\n",
       "      <td>2</td>\n",
       "      <td>25</td>\n",
       "      <td>7</td>\n",
       "    </tr>\n",
       "    <tr>\n",
       "      <th>...</th>\n",
       "      <td>...</td>\n",
       "      <td>...</td>\n",
       "      <td>...</td>\n",
       "      <td>...</td>\n",
       "      <td>...</td>\n",
       "      <td>...</td>\n",
       "      <td>...</td>\n",
       "      <td>...</td>\n",
       "    </tr>\n",
       "    <tr>\n",
       "      <th>2020-12-24</th>\n",
       "      <td>28.7300</td>\n",
       "      <td>28.7600</td>\n",
       "      <td>28.5000</td>\n",
       "      <td>28.6900</td>\n",
       "      <td>19153092</td>\n",
       "      <td>3</td>\n",
       "      <td>24</td>\n",
       "      <td>12</td>\n",
       "    </tr>\n",
       "    <tr>\n",
       "      <th>2020-12-28</th>\n",
       "      <td>28.9300</td>\n",
       "      <td>28.9591</td>\n",
       "      <td>28.5000</td>\n",
       "      <td>28.5500</td>\n",
       "      <td>41575385</td>\n",
       "      <td>0</td>\n",
       "      <td>28</td>\n",
       "      <td>12</td>\n",
       "    </tr>\n",
       "    <tr>\n",
       "      <th>2020-12-29</th>\n",
       "      <td>28.6900</td>\n",
       "      <td>28.8800</td>\n",
       "      <td>28.5100</td>\n",
       "      <td>28.5400</td>\n",
       "      <td>36544749</td>\n",
       "      <td>1</td>\n",
       "      <td>29</td>\n",
       "      <td>12</td>\n",
       "    </tr>\n",
       "    <tr>\n",
       "      <th>2020-12-30</th>\n",
       "      <td>28.5400</td>\n",
       "      <td>28.6800</td>\n",
       "      <td>28.4300</td>\n",
       "      <td>28.4900</td>\n",
       "      <td>34302430</td>\n",
       "      <td>2</td>\n",
       "      <td>30</td>\n",
       "      <td>12</td>\n",
       "    </tr>\n",
       "    <tr>\n",
       "      <th>2020-12-31</th>\n",
       "      <td>28.4500</td>\n",
       "      <td>28.8000</td>\n",
       "      <td>28.3900</td>\n",
       "      <td>28.7600</td>\n",
       "      <td>38588231</td>\n",
       "      <td>3</td>\n",
       "      <td>31</td>\n",
       "      <td>12</td>\n",
       "    </tr>\n",
       "  </tbody>\n",
       "</table>\n",
       "<p>9190 rows × 8 columns</p>\n",
       "</div>"
      ],
      "text/plain": [
       "               open     high      low    close    volume  day_of_week  \\\n",
       "date                                                                    \n",
       "1984-07-19   1.0554   1.0576   1.0489   1.0489    934800            3   \n",
       "1984-07-20   1.0532   1.0599   1.0466   1.0510   1557600            4   \n",
       "1984-07-23   1.0466   1.0554   1.0378   1.0510   3313200            0   \n",
       "1984-07-24   1.0554   1.0666   1.0532   1.0599   1549200            1   \n",
       "1984-07-25   1.0599   1.0841   1.0576   1.0731   1828800            2   \n",
       "...             ...      ...      ...      ...       ...          ...   \n",
       "2020-12-24  28.7300  28.7600  28.5000  28.6900  19153092            3   \n",
       "2020-12-28  28.9300  28.9591  28.5000  28.5500  41575385            0   \n",
       "2020-12-29  28.6900  28.8800  28.5100  28.5400  36544749            1   \n",
       "2020-12-30  28.5400  28.6800  28.4300  28.4900  34302430            2   \n",
       "2020-12-31  28.4500  28.8000  28.3900  28.7600  38588231            3   \n",
       "\n",
       "            day_of_month  month  \n",
       "date                             \n",
       "1984-07-19            19      7  \n",
       "1984-07-20            20      7  \n",
       "1984-07-23            23      7  \n",
       "1984-07-24            24      7  \n",
       "1984-07-25            25      7  \n",
       "...                  ...    ...  \n",
       "2020-12-24            24     12  \n",
       "2020-12-28            28     12  \n",
       "2020-12-29            29     12  \n",
       "2020-12-30            30     12  \n",
       "2020-12-31            31     12  \n",
       "\n",
       "[9190 rows x 8 columns]"
      ]
     },
     "execution_count": 227,
     "metadata": {},
     "output_type": "execute_result"
    }
   ],
   "source": [
    "ATT"
   ]
  },
  {
   "cell_type": "code",
   "execution_count": 228,
   "metadata": {},
   "outputs": [
    {
     "name": "stdout",
     "output_type": "stream",
     "text": [
      "<class 'pandas.core.frame.DataFrame'>\n",
      "DatetimeIndex: 9190 entries, 1984-07-19 to 2020-12-31\n",
      "Data columns (total 8 columns):\n",
      " #   Column        Non-Null Count  Dtype  \n",
      "---  ------        --------------  -----  \n",
      " 0   open          9190 non-null   float64\n",
      " 1   high          9190 non-null   float64\n",
      " 2   low           9190 non-null   float64\n",
      " 3   close         9190 non-null   float64\n",
      " 4   volume        9190 non-null   int64  \n",
      " 5   day_of_week   9190 non-null   int64  \n",
      " 6   day_of_month  9190 non-null   int64  \n",
      " 7   month         9190 non-null   int64  \n",
      "dtypes: float64(4), int64(4)\n",
      "memory usage: 646.2 KB\n"
     ]
    }
   ],
   "source": [
    "ATT.info()"
   ]
  },
  {
   "cell_type": "code",
   "execution_count": 229,
   "metadata": {},
   "outputs": [],
   "source": [
    "close = ATT['close']"
   ]
  },
  {
   "cell_type": "code",
   "execution_count": 231,
   "metadata": {
    "scrolled": true
   },
   "outputs": [
    {
     "data": {
      "text/plain": [
       "9190"
      ]
     },
     "execution_count": 231,
     "metadata": {},
     "output_type": "execute_result"
    }
   ],
   "source": [
    "len(ATT)"
   ]
  },
  {
   "cell_type": "markdown",
   "metadata": {},
   "source": [
    "# split into train and test:"
   ]
  },
  {
   "cell_type": "code",
   "execution_count": 232,
   "metadata": {},
   "outputs": [
    {
     "name": "stdout",
     "output_type": "stream",
     "text": [
      "(8271, 8) (919, 8)\n"
     ]
    }
   ],
   "source": [
    "train_size = int(len(ATT) * 0.9)\n",
    "test_size = len(ATT) - train_size\n",
    "train, test = ATT[0:train_size], ATT[train_size:len(ATT)]\n",
    "\n",
    "print(train.shape,test.shape)"
   ]
  },
  {
   "cell_type": "code",
   "execution_count": 307,
   "metadata": {},
   "outputs": [
    {
     "data": {
      "text/html": [
       "<div>\n",
       "<style scoped>\n",
       "    .dataframe tbody tr th:only-of-type {\n",
       "        vertical-align: middle;\n",
       "    }\n",
       "\n",
       "    .dataframe tbody tr th {\n",
       "        vertical-align: top;\n",
       "    }\n",
       "\n",
       "    .dataframe thead th {\n",
       "        text-align: right;\n",
       "    }\n",
       "</style>\n",
       "<table border=\"1\" class=\"dataframe\">\n",
       "  <thead>\n",
       "    <tr style=\"text-align: right;\">\n",
       "      <th></th>\n",
       "      <th>open</th>\n",
       "      <th>high</th>\n",
       "      <th>low</th>\n",
       "      <th>close</th>\n",
       "      <th>volume</th>\n",
       "      <th>day_of_week</th>\n",
       "      <th>day_of_month</th>\n",
       "      <th>month</th>\n",
       "    </tr>\n",
       "    <tr>\n",
       "      <th>date</th>\n",
       "      <th></th>\n",
       "      <th></th>\n",
       "      <th></th>\n",
       "      <th></th>\n",
       "      <th></th>\n",
       "      <th></th>\n",
       "      <th></th>\n",
       "      <th></th>\n",
       "    </tr>\n",
       "  </thead>\n",
       "  <tbody>\n",
       "    <tr>\n",
       "      <th>1984-07-19</th>\n",
       "      <td>-0.757251</td>\n",
       "      <td>-0.756653</td>\n",
       "      <td>-0.760143</td>\n",
       "      <td>-0.759290</td>\n",
       "      <td>-0.262137</td>\n",
       "      <td>3</td>\n",
       "      <td>19</td>\n",
       "      <td>7</td>\n",
       "    </tr>\n",
       "    <tr>\n",
       "      <th>1984-07-20</th>\n",
       "      <td>-0.757422</td>\n",
       "      <td>-0.756477</td>\n",
       "      <td>-0.760323</td>\n",
       "      <td>-0.759127</td>\n",
       "      <td>-0.227792</td>\n",
       "      <td>4</td>\n",
       "      <td>20</td>\n",
       "      <td>7</td>\n",
       "    </tr>\n",
       "    <tr>\n",
       "      <th>1984-07-23</th>\n",
       "      <td>-0.757933</td>\n",
       "      <td>-0.756821</td>\n",
       "      <td>-0.761015</td>\n",
       "      <td>-0.759127</td>\n",
       "      <td>-0.130977</td>\n",
       "      <td>0</td>\n",
       "      <td>23</td>\n",
       "      <td>7</td>\n",
       "    </tr>\n",
       "    <tr>\n",
       "      <th>1984-07-24</th>\n",
       "      <td>-0.757251</td>\n",
       "      <td>-0.755964</td>\n",
       "      <td>-0.759805</td>\n",
       "      <td>-0.758437</td>\n",
       "      <td>-0.228255</td>\n",
       "      <td>1</td>\n",
       "      <td>24</td>\n",
       "      <td>7</td>\n",
       "    </tr>\n",
       "    <tr>\n",
       "      <th>1984-07-25</th>\n",
       "      <td>-0.756903</td>\n",
       "      <td>-0.754625</td>\n",
       "      <td>-0.759459</td>\n",
       "      <td>-0.757413</td>\n",
       "      <td>-0.212836</td>\n",
       "      <td>2</td>\n",
       "      <td>25</td>\n",
       "      <td>7</td>\n",
       "    </tr>\n",
       "    <tr>\n",
       "      <th>...</th>\n",
       "      <td>...</td>\n",
       "      <td>...</td>\n",
       "      <td>...</td>\n",
       "      <td>...</td>\n",
       "      <td>...</td>\n",
       "      <td>...</td>\n",
       "      <td>...</td>\n",
       "      <td>...</td>\n",
       "    </tr>\n",
       "    <tr>\n",
       "      <th>2017-05-03</th>\n",
       "      <td>1.604238</td>\n",
       "      <td>1.578055</td>\n",
       "      <td>1.585826</td>\n",
       "      <td>1.572628</td>\n",
       "      <td>1.546730</td>\n",
       "      <td>2</td>\n",
       "      <td>3</td>\n",
       "      <td>5</td>\n",
       "    </tr>\n",
       "    <tr>\n",
       "      <th>2017-05-04</th>\n",
       "      <td>1.570979</td>\n",
       "      <td>1.542727</td>\n",
       "      <td>1.552730</td>\n",
       "      <td>1.548123</td>\n",
       "      <td>1.420542</td>\n",
       "      <td>3</td>\n",
       "      <td>4</td>\n",
       "      <td>5</td>\n",
       "    </tr>\n",
       "    <tr>\n",
       "      <th>2017-05-05</th>\n",
       "      <td>1.550271</td>\n",
       "      <td>1.561321</td>\n",
       "      <td>1.578195</td>\n",
       "      <td>1.582685</td>\n",
       "      <td>0.890105</td>\n",
       "      <td>4</td>\n",
       "      <td>5</td>\n",
       "      <td>5</td>\n",
       "    </tr>\n",
       "    <tr>\n",
       "      <th>2017-05-08</th>\n",
       "      <td>1.594197</td>\n",
       "      <td>1.565659</td>\n",
       "      <td>1.596649</td>\n",
       "      <td>1.583313</td>\n",
       "      <td>0.796939</td>\n",
       "      <td>0</td>\n",
       "      <td>8</td>\n",
       "      <td>5</td>\n",
       "    </tr>\n",
       "    <tr>\n",
       "      <th>2017-05-09</th>\n",
       "      <td>1.578509</td>\n",
       "      <td>1.551404</td>\n",
       "      <td>1.586463</td>\n",
       "      <td>1.561314</td>\n",
       "      <td>0.876994</td>\n",
       "      <td>1</td>\n",
       "      <td>9</td>\n",
       "      <td>5</td>\n",
       "    </tr>\n",
       "  </tbody>\n",
       "</table>\n",
       "<p>8271 rows × 8 columns</p>\n",
       "</div>"
      ],
      "text/plain": [
       "                open      high       low     close    volume  day_of_week  \\\n",
       "date                                                                        \n",
       "1984-07-19 -0.757251 -0.756653 -0.760143 -0.759290 -0.262137            3   \n",
       "1984-07-20 -0.757422 -0.756477 -0.760323 -0.759127 -0.227792            4   \n",
       "1984-07-23 -0.757933 -0.756821 -0.761015 -0.759127 -0.130977            0   \n",
       "1984-07-24 -0.757251 -0.755964 -0.759805 -0.758437 -0.228255            1   \n",
       "1984-07-25 -0.756903 -0.754625 -0.759459 -0.757413 -0.212836            2   \n",
       "...              ...       ...       ...       ...       ...          ...   \n",
       "2017-05-03  1.604238  1.578055  1.585826  1.572628  1.546730            2   \n",
       "2017-05-04  1.570979  1.542727  1.552730  1.548123  1.420542            3   \n",
       "2017-05-05  1.550271  1.561321  1.578195  1.582685  0.890105            4   \n",
       "2017-05-08  1.594197  1.565659  1.596649  1.583313  0.796939            0   \n",
       "2017-05-09  1.578509  1.551404  1.586463  1.561314  0.876994            1   \n",
       "\n",
       "            day_of_month  month  \n",
       "date                             \n",
       "1984-07-19            19      7  \n",
       "1984-07-20            20      7  \n",
       "1984-07-23            23      7  \n",
       "1984-07-24            24      7  \n",
       "1984-07-25            25      7  \n",
       "...                  ...    ...  \n",
       "2017-05-03             3      5  \n",
       "2017-05-04             4      5  \n",
       "2017-05-05             5      5  \n",
       "2017-05-08             8      5  \n",
       "2017-05-09             9      5  \n",
       "\n",
       "[8271 rows x 8 columns]"
      ]
     },
     "execution_count": 307,
     "metadata": {},
     "output_type": "execute_result"
    }
   ],
   "source": [
    "train"
   ]
  },
  {
   "cell_type": "code",
   "execution_count": 308,
   "metadata": {},
   "outputs": [
    {
     "data": {
      "text/html": [
       "<div>\n",
       "<style scoped>\n",
       "    .dataframe tbody tr th:only-of-type {\n",
       "        vertical-align: middle;\n",
       "    }\n",
       "\n",
       "    .dataframe tbody tr th {\n",
       "        vertical-align: top;\n",
       "    }\n",
       "\n",
       "    .dataframe thead th {\n",
       "        text-align: right;\n",
       "    }\n",
       "</style>\n",
       "<table border=\"1\" class=\"dataframe\">\n",
       "  <thead>\n",
       "    <tr style=\"text-align: right;\">\n",
       "      <th></th>\n",
       "      <th>open</th>\n",
       "      <th>high</th>\n",
       "      <th>low</th>\n",
       "      <th>close</th>\n",
       "      <th>volume</th>\n",
       "      <th>day_of_week</th>\n",
       "      <th>day_of_month</th>\n",
       "      <th>month</th>\n",
       "    </tr>\n",
       "    <tr>\n",
       "      <th>date</th>\n",
       "      <th></th>\n",
       "      <th></th>\n",
       "      <th></th>\n",
       "      <th></th>\n",
       "      <th></th>\n",
       "      <th></th>\n",
       "      <th></th>\n",
       "      <th></th>\n",
       "    </tr>\n",
       "  </thead>\n",
       "  <tbody>\n",
       "    <tr>\n",
       "      <th>2017-05-10</th>\n",
       "      <td>1.557174</td>\n",
       "      <td>1.557602</td>\n",
       "      <td>1.584553</td>\n",
       "      <td>1.575771</td>\n",
       "      <td>0.933069</td>\n",
       "      <td>2</td>\n",
       "      <td>10</td>\n",
       "      <td>5</td>\n",
       "    </tr>\n",
       "    <tr>\n",
       "      <th>2017-05-11</th>\n",
       "      <td>1.573489</td>\n",
       "      <td>1.551404</td>\n",
       "      <td>1.589960</td>\n",
       "      <td>1.575142</td>\n",
       "      <td>0.598590</td>\n",
       "      <td>3</td>\n",
       "      <td>11</td>\n",
       "      <td>5</td>\n",
       "    </tr>\n",
       "    <tr>\n",
       "      <th>2017-05-12</th>\n",
       "      <td>1.575999</td>\n",
       "      <td>1.555123</td>\n",
       "      <td>1.596012</td>\n",
       "      <td>1.578285</td>\n",
       "      <td>0.445680</td>\n",
       "      <td>4</td>\n",
       "      <td>12</td>\n",
       "      <td>5</td>\n",
       "    </tr>\n",
       "    <tr>\n",
       "      <th>2017-05-15</th>\n",
       "      <td>1.577882</td>\n",
       "      <td>1.560081</td>\n",
       "      <td>1.602378</td>\n",
       "      <td>1.584570</td>\n",
       "      <td>0.861990</td>\n",
       "      <td>0</td>\n",
       "      <td>15</td>\n",
       "      <td>5</td>\n",
       "    </tr>\n",
       "    <tr>\n",
       "      <th>2017-05-16</th>\n",
       "      <td>1.587922</td>\n",
       "      <td>1.564420</td>\n",
       "      <td>1.588373</td>\n",
       "      <td>1.559429</td>\n",
       "      <td>0.877442</td>\n",
       "      <td>1</td>\n",
       "      <td>16</td>\n",
       "      <td>5</td>\n",
       "    </tr>\n",
       "    <tr>\n",
       "      <th>...</th>\n",
       "      <td>...</td>\n",
       "      <td>...</td>\n",
       "      <td>...</td>\n",
       "      <td>...</td>\n",
       "      <td>...</td>\n",
       "      <td>...</td>\n",
       "      <td>...</td>\n",
       "      <td>...</td>\n",
       "    </tr>\n",
       "    <tr>\n",
       "      <th>2020-12-24</th>\n",
       "      <td>1.386737</td>\n",
       "      <td>1.363050</td>\n",
       "      <td>1.397386</td>\n",
       "      <td>1.385609</td>\n",
       "      <td>0.742531</td>\n",
       "      <td>3</td>\n",
       "      <td>24</td>\n",
       "      <td>12</td>\n",
       "    </tr>\n",
       "    <tr>\n",
       "      <th>2020-12-28</th>\n",
       "      <td>1.402231</td>\n",
       "      <td>1.378284</td>\n",
       "      <td>1.397386</td>\n",
       "      <td>1.374745</td>\n",
       "      <td>1.979033</td>\n",
       "      <td>0</td>\n",
       "      <td>28</td>\n",
       "      <td>12</td>\n",
       "    </tr>\n",
       "    <tr>\n",
       "      <th>2020-12-29</th>\n",
       "      <td>1.383638</td>\n",
       "      <td>1.372232</td>\n",
       "      <td>1.398172</td>\n",
       "      <td>1.373969</td>\n",
       "      <td>1.701613</td>\n",
       "      <td>1</td>\n",
       "      <td>29</td>\n",
       "      <td>12</td>\n",
       "    </tr>\n",
       "    <tr>\n",
       "      <th>2020-12-30</th>\n",
       "      <td>1.372017</td>\n",
       "      <td>1.356929</td>\n",
       "      <td>1.391884</td>\n",
       "      <td>1.370089</td>\n",
       "      <td>1.577958</td>\n",
       "      <td>2</td>\n",
       "      <td>30</td>\n",
       "      <td>12</td>\n",
       "    </tr>\n",
       "    <tr>\n",
       "      <th>2020-12-31</th>\n",
       "      <td>1.365045</td>\n",
       "      <td>1.366111</td>\n",
       "      <td>1.388740</td>\n",
       "      <td>1.391041</td>\n",
       "      <td>1.814303</td>\n",
       "      <td>3</td>\n",
       "      <td>31</td>\n",
       "      <td>12</td>\n",
       "    </tr>\n",
       "  </tbody>\n",
       "</table>\n",
       "<p>919 rows × 8 columns</p>\n",
       "</div>"
      ],
      "text/plain": [
       "                open      high       low     close    volume  day_of_week  \\\n",
       "date                                                                        \n",
       "2017-05-10  1.557174  1.557602  1.584553  1.575771  0.933069            2   \n",
       "2017-05-11  1.573489  1.551404  1.589960  1.575142  0.598590            3   \n",
       "2017-05-12  1.575999  1.555123  1.596012  1.578285  0.445680            4   \n",
       "2017-05-15  1.577882  1.560081  1.602378  1.584570  0.861990            0   \n",
       "2017-05-16  1.587922  1.564420  1.588373  1.559429  0.877442            1   \n",
       "...              ...       ...       ...       ...       ...          ...   \n",
       "2020-12-24  1.386737  1.363050  1.397386  1.385609  0.742531            3   \n",
       "2020-12-28  1.402231  1.378284  1.397386  1.374745  1.979033            0   \n",
       "2020-12-29  1.383638  1.372232  1.398172  1.373969  1.701613            1   \n",
       "2020-12-30  1.372017  1.356929  1.391884  1.370089  1.577958            2   \n",
       "2020-12-31  1.365045  1.366111  1.388740  1.391041  1.814303            3   \n",
       "\n",
       "            day_of_month  month  \n",
       "date                             \n",
       "2017-05-10            10      5  \n",
       "2017-05-11            11      5  \n",
       "2017-05-12            12      5  \n",
       "2017-05-15            15      5  \n",
       "2017-05-16            16      5  \n",
       "...                  ...    ...  \n",
       "2020-12-24            24     12  \n",
       "2020-12-28            28     12  \n",
       "2020-12-29            29     12  \n",
       "2020-12-30            30     12  \n",
       "2020-12-31            31     12  \n",
       "\n",
       "[919 rows x 8 columns]"
      ]
     },
     "execution_count": 308,
     "metadata": {},
     "output_type": "execute_result"
    }
   ],
   "source": [
    "test"
   ]
  },
  {
   "cell_type": "code",
   "execution_count": 233,
   "metadata": {},
   "outputs": [
    {
     "name": "stderr",
     "output_type": "stream",
     "text": [
      "/Users/vickiwei/opt/anaconda3/lib/python3.7/site-packages/pandas/core/indexing.py:1736: SettingWithCopyWarning: \n",
      "A value is trying to be set on a copy of a slice from a DataFrame.\n",
      "Try using .loc[row_indexer,col_indexer] = value instead\n",
      "\n",
      "See the caveats in the documentation: https://pandas.pydata.org/pandas-docs/stable/user_guide/indexing.html#returning-a-view-versus-a-copy\n",
      "  isetter(loc, value[:, i].tolist())\n",
      "/Users/vickiwei/opt/anaconda3/lib/python3.7/site-packages/ipykernel_launcher.py:13: SettingWithCopyWarning: \n",
      "A value is trying to be set on a copy of a slice from a DataFrame.\n",
      "Try using .loc[row_indexer,col_indexer] = value instead\n",
      "\n",
      "See the caveats in the documentation: https://pandas.pydata.org/pandas-docs/stable/user_guide/indexing.html#returning-a-view-versus-a-copy\n",
      "  del sys.path[0]\n",
      "/Users/vickiwei/opt/anaconda3/lib/python3.7/site-packages/pandas/core/indexing.py:1736: SettingWithCopyWarning: \n",
      "A value is trying to be set on a copy of a slice from a DataFrame.\n",
      "Try using .loc[row_indexer,col_indexer] = value instead\n",
      "\n",
      "See the caveats in the documentation: https://pandas.pydata.org/pandas-docs/stable/user_guide/indexing.html#returning-a-view-versus-a-copy\n",
      "  isetter(loc, value[:, i].tolist())\n",
      "/Users/vickiwei/opt/anaconda3/lib/python3.7/site-packages/ipykernel_launcher.py:16: SettingWithCopyWarning: \n",
      "A value is trying to be set on a copy of a slice from a DataFrame.\n",
      "Try using .loc[row_indexer,col_indexer] = value instead\n",
      "\n",
      "See the caveats in the documentation: https://pandas.pydata.org/pandas-docs/stable/user_guide/indexing.html#returning-a-view-versus-a-copy\n",
      "  app.launch_new_instance()\n"
     ]
    }
   ],
   "source": [
    "#transform:\n",
    "from sklearn.preprocessing import RobustScaler\n",
    "\n",
    "f_columns = ['open', 'high', 'low','volume']\n",
    "\n",
    "f_transformer = RobustScaler()\n",
    "close_transformer = RobustScaler()\n",
    "\n",
    "f_transformer = f_transformer.fit(train[f_columns].to_numpy())\n",
    "close_transformer = close_transformer.fit(train[['close']])\n",
    "\n",
    "train.loc[:, f_columns] = f_transformer.transform(train[f_columns].to_numpy())\n",
    "train['close'] = close_transformer.transform(train[['close']])\n",
    "\n",
    "test.loc[:, f_columns] = f_transformer.transform(test[f_columns].to_numpy())\n",
    "test['close'] = close_transformer.transform(test[['close']])"
   ]
  },
  {
   "cell_type": "code",
   "execution_count": 234,
   "metadata": {},
   "outputs": [],
   "source": [
    "def create_dataset(X, y, time_steps=1):\n",
    "    dataX, dataY = [], []\n",
    "    for i in range(len(X) - time_steps):\n",
    "        a  = X.iloc[i:(i+time_steps)].to_numpy()\n",
    "        dataX.append(a)\n",
    "        dataY.append(y.iloc[i + time_steps])\n",
    "    return np.array(dataX), np.array(dataY)"
   ]
  },
  {
   "cell_type": "code",
   "execution_count": 235,
   "metadata": {},
   "outputs": [],
   "source": [
    "TIME_STEPS = 5"
   ]
  },
  {
   "cell_type": "code",
   "execution_count": 236,
   "metadata": {},
   "outputs": [],
   "source": [
    "x_train, y_train = create_dataset(train, train.close, time_steps=TIME_STEPS)\n",
    "x_test, y_test = create_dataset(test, test.close, time_steps=TIME_STEPS)\n"
   ]
  },
  {
   "cell_type": "code",
   "execution_count": 237,
   "metadata": {},
   "outputs": [
    {
     "name": "stdout",
     "output_type": "stream",
     "text": [
      "(8266, 5, 8) (8266,)\n"
     ]
    }
   ],
   "source": [
    "# samples, time_steps, n_features\n",
    "print(x_train.shape,y_train.shape)"
   ]
  },
  {
   "cell_type": "code",
   "execution_count": 281,
   "metadata": {},
   "outputs": [],
   "source": [
    "# #use the past 90 days to predict future 5 days close price\n",
    "# X_train = []\n",
    "# Y_train = []\n",
    "\n",
    "# n_future = 5\n",
    "# n_past = 90\n",
    "\n",
    "# for i in range(n_past, len(train)-n_future+1):\n",
    "#     X_train.append(train[i- n_past:i, 0:train[1]-1])\n",
    "#     Y_train.append(training_set_scaled[i + n_future:i + n_future, 0])\n",
    "\n",
    "# X_train, y_train = np.array(X_train), np.array(Y_train)"
   ]
  },
  {
   "cell_type": "markdown",
   "metadata": {},
   "source": [
    "# LSTM Modeling:"
   ]
  },
  {
   "cell_type": "code",
   "execution_count": 238,
   "metadata": {},
   "outputs": [],
   "source": [
    "model = keras.Sequential() \n",
    "model.add(\n",
    "    keras.layers.Bidirectional(\n",
    "      keras.layers.LSTM(\n",
    "          units = 128,\n",
    "          input_shape=(x_train.shape[1],x_train.shape[2])\n",
    "          )\n",
    "    )\n",
    ")\n",
    "model.add(keras.layers.Dropout(rate=0.2))\n",
    "model.add(keras.layers.Dense(units=1))"
   ]
  },
  {
   "cell_type": "code",
   "execution_count": 241,
   "metadata": {},
   "outputs": [],
   "source": [
    "model.compile(loss='mean_squared_error', optimizer='adam')"
   ]
  },
  {
   "cell_type": "code",
   "execution_count": 293,
   "metadata": {
    "scrolled": true
   },
   "outputs": [
    {
     "name": "stdout",
     "output_type": "stream",
     "text": [
      "Train on 7439 samples, validate on 827 samples\n",
      "Epoch 1/10\n",
      "7439/7439 [==============================] - 12s 2ms/sample - loss: 6.7897e-04 - val_loss: 0.0114\n",
      "Epoch 2/10\n",
      "7439/7439 [==============================] - 12s 2ms/sample - loss: 6.6222e-04 - val_loss: 0.0093\n",
      "Epoch 3/10\n",
      "7439/7439 [==============================] - 16s 2ms/sample - loss: 6.8797e-04 - val_loss: 0.0091\n",
      "Epoch 4/10\n",
      "7439/7439 [==============================] - 12s 2ms/sample - loss: 6.8720e-04 - val_loss: 0.0117\n",
      "Epoch 5/10\n",
      "7439/7439 [==============================] - 14s 2ms/sample - loss: 6.8302e-04 - val_loss: 0.0096\n",
      "Epoch 6/10\n",
      "7439/7439 [==============================] - 12s 2ms/sample - loss: 6.7572e-04 - val_loss: 0.0139\n",
      "Epoch 7/10\n",
      "7439/7439 [==============================] - 12s 2ms/sample - loss: 7.2767e-04 - val_loss: 0.0162\n",
      "Epoch 8/10\n",
      "7439/7439 [==============================] - 13s 2ms/sample - loss: 7.2907e-04 - val_loss: 0.0090\n",
      "Epoch 9/10\n",
      "7439/7439 [==============================] - 13s 2ms/sample - loss: 6.9135e-04 - val_loss: 0.0115\n",
      "Epoch 10/10\n",
      "7439/7439 [==============================] - 12s 2ms/sample - loss: 6.7487e-04 - val_loss: 0.0067\n"
     ]
    }
   ],
   "source": [
    "history = model.fit(\n",
    "    x_train, y_train,\n",
    "    epochs=10,\n",
    "    batch_size=64,\n",
    "    validation_split=0.1,\n",
    "    #shuffle=False\n",
    ")"
   ]
  },
  {
   "cell_type": "markdown",
   "metadata": {},
   "source": [
    "# Visualize the Loss:"
   ]
  },
  {
   "cell_type": "code",
   "execution_count": 294,
   "metadata": {
    "scrolled": true
   },
   "outputs": [
    {
     "data": {
      "text/plain": [
       "<matplotlib.legend.Legend at 0x7fb2cefb0950>"
      ]
     },
     "execution_count": 294,
     "metadata": {},
     "output_type": "execute_result"
    },
    {
     "data": {
      "image/png": "[encoded data removed]",
      "text/plain": [
       "<Figure size 432x288 with 1 Axes>"
      ]
     },
     "metadata": {
      "needs_background": "light"
     },
     "output_type": "display_data"
    }
   ],
   "source": [
    "plt.plot(history.history['loss'],label='train')\n",
    "plt.plot(history.history['val_loss'],label='validation')\n",
    "plt.legend()"
   ]
  },
  {
   "cell_type": "markdown",
   "metadata": {},
   "source": [
    "# Predict and Evaluate the Model:"
   ]
  },
  {
   "cell_type": "code",
   "execution_count": 320,
   "metadata": {},
   "outputs": [],
   "source": [
    "y_pred = model.predict(x_test)"
   ]
  },
  {
   "cell_type": "code",
   "execution_count": 323,
   "metadata": {},
   "outputs": [],
   "source": [
    "def RMSE(y_predict, y_actual):\n",
    "    return np.sqrt(((y_predict - y_actual)**2).mean())"
   ]
  },
  {
   "cell_type": "code",
   "execution_count": 324,
   "metadata": {
    "scrolled": true
   },
   "outputs": [
    {
     "data": {
      "text/plain": [
       "'RMSE_LSTM: 0.2626398624249927'"
      ]
     },
     "execution_count": 324,
     "metadata": {},
     "output_type": "execute_result"
    }
   ],
   "source": [
    "f'RMSE_LSTM: {RMSE(y_pred,y_test)}'"
   ]
  },
  {
   "cell_type": "markdown",
   "metadata": {},
   "source": [
    "# Visualize the Prediction:"
   ]
  },
  {
   "cell_type": "code",
   "execution_count": 321,
   "metadata": {},
   "outputs": [],
   "source": [
    "y_train_inv = close_transformer.inverse_transform(y_train.reshape(1, -1))\n",
    "y_test_inv = close_transformer.inverse_transform(y_test.reshape(1, -1))\n",
    "y_pred_inv = close_transformer.inverse_transform(y_pred)\n"
   ]
  },
  {
   "cell_type": "code",
   "execution_count": 322,
   "metadata": {
    "scrolled": true
   },
   "outputs": [
    {
     "data": {
      "text/plain": [
       "[]"
      ]
     },
     "execution_count": 322,
     "metadata": {},
     "output_type": "execute_result"
    },
    {
     "data": {
      "image/png": "[encoded data removed]",
      "text/plain": [
       "<Figure size 1080x576 with 1 Axes>"
      ]
     },
     "metadata": {
      "needs_background": "light"
     },
     "output_type": "display_data"
    }
   ],
   "source": [
    "fig, ax = plt.subplots(figsize = (15,8))\n",
    "plt.plot(y_test_inv.flatten(),marker='.', label='true')\n",
    "plt.plot(y_pred_inv.flatten(),'r', marker='.', label='predicted')\n",
    "plt.legend()\n",
    "ax.set_title(f'Prediction and True Value on the test set 2017-05-10 to 2020-12-31', fontsize = 25) \n",
    "ax.set_xlabel('Date', fontsize = 20) \n",
    "ax.set_ylabel('Price (in $)', fontsize = 20)\n",
    "ax.set_xticks([])"
   ]
  }
 ],
 "metadata": {
  "kernelspec": {
   "display_name": "Python 3",
   "language": "python",
   "name": "python3"
  },
  "language_info": {
   "codemirror_mode": {
    "name": "ipython",
    "version": 3
   },
   "file_extension": ".py",
   "mimetype": "text/x-python",
   "name": "python",
   "nbconvert_exporter": "python",
   "pygments_lexer": "ipython3",
   "version": "3.7.9"
  }
 },
 "nbformat": 4,
 "nbformat_minor": 4
}
